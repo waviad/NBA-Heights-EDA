{
 "cells": [
  {
   "cell_type": "markdown",
   "metadata": {},
   "source": [
    "# NBA - 1950-2017 - EXPLORE HEIGHT OVER TIME"
   ]
  },
  {
   "cell_type": "markdown",
   "metadata": {},
   "source": [
    "## DATA CLEANSING"
   ]
  },
  {
   "cell_type": "markdown",
   "metadata": {},
   "source": [
    "## Import packages"
   ]
  },
  {
   "cell_type": "code",
   "execution_count": 1,
   "metadata": {},
   "outputs": [],
   "source": [
    "import numpy as np \n",
    "import pandas as pd\n",
    "import matplotlib.pyplot as plt\n",
    "import seaborn as sns\n"
   ]
  },
  {
   "cell_type": "markdown",
   "metadata": {},
   "source": [
    "## Read CSV files"
   ]
  },
  {
   "cell_type": "code",
   "execution_count": 2,
   "metadata": {},
   "outputs": [],
   "source": [
    "players = pd.read_csv('Players.csv')\n",
    "seasons = pd.read_csv('Seasons_Stats.csv')\n",
    "#seasons = seasons.drop(seasons.index[len(seasons) - 1])\n"
   ]
  },
  {
   "cell_type": "markdown",
   "metadata": {},
   "source": [
    "### First look at the tables"
   ]
  },
  {
   "cell_type": "code",
   "execution_count": 3,
   "metadata": {},
   "outputs": [
    {
     "name": "stdout",
     "output_type": "stream",
     "text": [
      "(24691, 53)\n"
     ]
    },
    {
     "data": {
      "text/html": [
       "<div>\n",
       "<style scoped>\n",
       "    .dataframe tbody tr th:only-of-type {\n",
       "        vertical-align: middle;\n",
       "    }\n",
       "\n",
       "    .dataframe tbody tr th {\n",
       "        vertical-align: top;\n",
       "    }\n",
       "\n",
       "    .dataframe thead th {\n",
       "        text-align: right;\n",
       "    }\n",
       "</style>\n",
       "<table border=\"1\" class=\"dataframe\">\n",
       "  <thead>\n",
       "    <tr style=\"text-align: right;\">\n",
       "      <th></th>\n",
       "      <th>Unnamed: 0</th>\n",
       "      <th>Year</th>\n",
       "      <th>Player</th>\n",
       "      <th>Pos</th>\n",
       "      <th>Age</th>\n",
       "      <th>Tm</th>\n",
       "      <th>G</th>\n",
       "      <th>GS</th>\n",
       "      <th>MP</th>\n",
       "      <th>PER</th>\n",
       "      <th>TS%</th>\n",
       "      <th>3PAr</th>\n",
       "      <th>FTr</th>\n",
       "      <th>ORB%</th>\n",
       "      <th>DRB%</th>\n",
       "      <th>TRB%</th>\n",
       "      <th>AST%</th>\n",
       "      <th>STL%</th>\n",
       "      <th>BLK%</th>\n",
       "      <th>TOV%</th>\n",
       "      <th>USG%</th>\n",
       "      <th>blanl</th>\n",
       "      <th>OWS</th>\n",
       "      <th>DWS</th>\n",
       "      <th>WS</th>\n",
       "      <th>WS/48</th>\n",
       "      <th>blank2</th>\n",
       "      <th>OBPM</th>\n",
       "      <th>DBPM</th>\n",
       "      <th>BPM</th>\n",
       "      <th>VORP</th>\n",
       "      <th>FG</th>\n",
       "      <th>FGA</th>\n",
       "      <th>FG%</th>\n",
       "      <th>3P</th>\n",
       "      <th>3PA</th>\n",
       "      <th>3P%</th>\n",
       "      <th>2P</th>\n",
       "      <th>2PA</th>\n",
       "      <th>2P%</th>\n",
       "      <th>eFG%</th>\n",
       "      <th>FT</th>\n",
       "      <th>FTA</th>\n",
       "      <th>FT%</th>\n",
       "      <th>ORB</th>\n",
       "      <th>DRB</th>\n",
       "      <th>TRB</th>\n",
       "      <th>AST</th>\n",
       "      <th>STL</th>\n",
       "      <th>BLK</th>\n",
       "      <th>TOV</th>\n",
       "      <th>PF</th>\n",
       "      <th>PTS</th>\n",
       "    </tr>\n",
       "  </thead>\n",
       "  <tbody>\n",
       "    <tr>\n",
       "      <th>0</th>\n",
       "      <td>0</td>\n",
       "      <td>1950.0</td>\n",
       "      <td>Curly Armstrong</td>\n",
       "      <td>G-F</td>\n",
       "      <td>31.0</td>\n",
       "      <td>FTW</td>\n",
       "      <td>63.0</td>\n",
       "      <td>NaN</td>\n",
       "      <td>NaN</td>\n",
       "      <td>NaN</td>\n",
       "      <td>0.368</td>\n",
       "      <td>NaN</td>\n",
       "      <td>0.467</td>\n",
       "      <td>NaN</td>\n",
       "      <td>NaN</td>\n",
       "      <td>NaN</td>\n",
       "      <td>NaN</td>\n",
       "      <td>NaN</td>\n",
       "      <td>NaN</td>\n",
       "      <td>NaN</td>\n",
       "      <td>NaN</td>\n",
       "      <td>NaN</td>\n",
       "      <td>-0.1</td>\n",
       "      <td>3.6</td>\n",
       "      <td>3.5</td>\n",
       "      <td>NaN</td>\n",
       "      <td>NaN</td>\n",
       "      <td>NaN</td>\n",
       "      <td>NaN</td>\n",
       "      <td>NaN</td>\n",
       "      <td>NaN</td>\n",
       "      <td>144.0</td>\n",
       "      <td>516.0</td>\n",
       "      <td>0.279</td>\n",
       "      <td>NaN</td>\n",
       "      <td>NaN</td>\n",
       "      <td>NaN</td>\n",
       "      <td>144.0</td>\n",
       "      <td>516.0</td>\n",
       "      <td>0.279</td>\n",
       "      <td>0.279</td>\n",
       "      <td>170.0</td>\n",
       "      <td>241.0</td>\n",
       "      <td>0.705</td>\n",
       "      <td>NaN</td>\n",
       "      <td>NaN</td>\n",
       "      <td>NaN</td>\n",
       "      <td>176.0</td>\n",
       "      <td>NaN</td>\n",
       "      <td>NaN</td>\n",
       "      <td>NaN</td>\n",
       "      <td>217.0</td>\n",
       "      <td>458.0</td>\n",
       "    </tr>\n",
       "    <tr>\n",
       "      <th>1</th>\n",
       "      <td>1</td>\n",
       "      <td>1950.0</td>\n",
       "      <td>Cliff Barker</td>\n",
       "      <td>SG</td>\n",
       "      <td>29.0</td>\n",
       "      <td>INO</td>\n",
       "      <td>49.0</td>\n",
       "      <td>NaN</td>\n",
       "      <td>NaN</td>\n",
       "      <td>NaN</td>\n",
       "      <td>0.435</td>\n",
       "      <td>NaN</td>\n",
       "      <td>0.387</td>\n",
       "      <td>NaN</td>\n",
       "      <td>NaN</td>\n",
       "      <td>NaN</td>\n",
       "      <td>NaN</td>\n",
       "      <td>NaN</td>\n",
       "      <td>NaN</td>\n",
       "      <td>NaN</td>\n",
       "      <td>NaN</td>\n",
       "      <td>NaN</td>\n",
       "      <td>1.6</td>\n",
       "      <td>0.6</td>\n",
       "      <td>2.2</td>\n",
       "      <td>NaN</td>\n",
       "      <td>NaN</td>\n",
       "      <td>NaN</td>\n",
       "      <td>NaN</td>\n",
       "      <td>NaN</td>\n",
       "      <td>NaN</td>\n",
       "      <td>102.0</td>\n",
       "      <td>274.0</td>\n",
       "      <td>0.372</td>\n",
       "      <td>NaN</td>\n",
       "      <td>NaN</td>\n",
       "      <td>NaN</td>\n",
       "      <td>102.0</td>\n",
       "      <td>274.0</td>\n",
       "      <td>0.372</td>\n",
       "      <td>0.372</td>\n",
       "      <td>75.0</td>\n",
       "      <td>106.0</td>\n",
       "      <td>0.708</td>\n",
       "      <td>NaN</td>\n",
       "      <td>NaN</td>\n",
       "      <td>NaN</td>\n",
       "      <td>109.0</td>\n",
       "      <td>NaN</td>\n",
       "      <td>NaN</td>\n",
       "      <td>NaN</td>\n",
       "      <td>99.0</td>\n",
       "      <td>279.0</td>\n",
       "    </tr>\n",
       "  </tbody>\n",
       "</table>\n",
       "</div>"
      ],
      "text/plain": [
       "   Unnamed: 0    Year           Player  Pos   Age   Tm     G  GS  MP  PER  \\\n",
       "0           0  1950.0  Curly Armstrong  G-F  31.0  FTW  63.0 NaN NaN  NaN   \n",
       "1           1  1950.0     Cliff Barker   SG  29.0  INO  49.0 NaN NaN  NaN   \n",
       "\n",
       "     TS%  3PAr    FTr  ORB%  DRB%  TRB%  AST%  STL%  BLK%  TOV%  USG%  blanl  \\\n",
       "0  0.368   NaN  0.467   NaN   NaN   NaN   NaN   NaN   NaN   NaN   NaN    NaN   \n",
       "1  0.435   NaN  0.387   NaN   NaN   NaN   NaN   NaN   NaN   NaN   NaN    NaN   \n",
       "\n",
       "   OWS  DWS   WS  WS/48  blank2  OBPM  DBPM  BPM  VORP     FG    FGA    FG%  \\\n",
       "0 -0.1  3.6  3.5    NaN     NaN   NaN   NaN  NaN   NaN  144.0  516.0  0.279   \n",
       "1  1.6  0.6  2.2    NaN     NaN   NaN   NaN  NaN   NaN  102.0  274.0  0.372   \n",
       "\n",
       "   3P  3PA  3P%     2P    2PA    2P%   eFG%     FT    FTA    FT%  ORB  DRB  \\\n",
       "0 NaN  NaN  NaN  144.0  516.0  0.279  0.279  170.0  241.0  0.705  NaN  NaN   \n",
       "1 NaN  NaN  NaN  102.0  274.0  0.372  0.372   75.0  106.0  0.708  NaN  NaN   \n",
       "\n",
       "   TRB    AST  STL  BLK  TOV     PF    PTS  \n",
       "0  NaN  176.0  NaN  NaN  NaN  217.0  458.0  \n",
       "1  NaN  109.0  NaN  NaN  NaN   99.0  279.0  "
      ]
     },
     "execution_count": 3,
     "metadata": {},
     "output_type": "execute_result"
    }
   ],
   "source": [
    "# SEASONS TABLE\n",
    "pd.set_option('display.max_columns', 60)\n",
    "print(seasons.shape)\n",
    "#print('seasons table has '+ str(len(seasons))+ ' rows.')\n",
    "seasons.head(2)"
   ]
  },
  {
   "cell_type": "code",
   "execution_count": 4,
   "metadata": {},
   "outputs": [
    {
     "name": "stdout",
     "output_type": "stream",
     "text": [
      "(3922, 8)\n"
     ]
    },
    {
     "data": {
      "text/html": [
       "<div>\n",
       "<style scoped>\n",
       "    .dataframe tbody tr th:only-of-type {\n",
       "        vertical-align: middle;\n",
       "    }\n",
       "\n",
       "    .dataframe tbody tr th {\n",
       "        vertical-align: top;\n",
       "    }\n",
       "\n",
       "    .dataframe thead th {\n",
       "        text-align: right;\n",
       "    }\n",
       "</style>\n",
       "<table border=\"1\" class=\"dataframe\">\n",
       "  <thead>\n",
       "    <tr style=\"text-align: right;\">\n",
       "      <th></th>\n",
       "      <th>Unnamed: 0</th>\n",
       "      <th>Player</th>\n",
       "      <th>height</th>\n",
       "      <th>weight</th>\n",
       "      <th>collage</th>\n",
       "      <th>born</th>\n",
       "      <th>birth_city</th>\n",
       "      <th>birth_state</th>\n",
       "    </tr>\n",
       "  </thead>\n",
       "  <tbody>\n",
       "    <tr>\n",
       "      <th>0</th>\n",
       "      <td>0</td>\n",
       "      <td>Curly Armstrong</td>\n",
       "      <td>180.0</td>\n",
       "      <td>77.0</td>\n",
       "      <td>Indiana University</td>\n",
       "      <td>1918.0</td>\n",
       "      <td>NaN</td>\n",
       "      <td>NaN</td>\n",
       "    </tr>\n",
       "    <tr>\n",
       "      <th>1</th>\n",
       "      <td>1</td>\n",
       "      <td>Cliff Barker</td>\n",
       "      <td>188.0</td>\n",
       "      <td>83.0</td>\n",
       "      <td>University of Kentucky</td>\n",
       "      <td>1921.0</td>\n",
       "      <td>Yorktown</td>\n",
       "      <td>Indiana</td>\n",
       "    </tr>\n",
       "  </tbody>\n",
       "</table>\n",
       "</div>"
      ],
      "text/plain": [
       "   Unnamed: 0           Player  height  weight                 collage  \\\n",
       "0           0  Curly Armstrong   180.0    77.0      Indiana University   \n",
       "1           1     Cliff Barker   188.0    83.0  University of Kentucky   \n",
       "\n",
       "     born birth_city birth_state  \n",
       "0  1918.0        NaN         NaN  \n",
       "1  1921.0   Yorktown     Indiana  "
      ]
     },
     "execution_count": 4,
     "metadata": {},
     "output_type": "execute_result"
    }
   ],
   "source": [
    "# PLAYERS TABLE\n",
    "print(players.shape)\n",
    "#print('players table has '+ str(len(players))+ ' rows.')\n",
    "players.head(2)"
   ]
  },
  {
   "cell_type": "markdown",
   "metadata": {},
   "source": [
    "Remove \"Unnamed: 0\" column"
   ]
  },
  {
   "cell_type": "code",
   "execution_count": 5,
   "metadata": {},
   "outputs": [],
   "source": [
    "seasons.drop('Unnamed: 0',axis=1,inplace=True)\n",
    "players.drop('Unnamed: 0',axis=1,inplace=True)"
   ]
  },
  {
   "cell_type": "code",
   "execution_count": 6,
   "metadata": {},
   "outputs": [
    {
     "data": {
      "text/html": [
       "<div>\n",
       "<style scoped>\n",
       "    .dataframe tbody tr th:only-of-type {\n",
       "        vertical-align: middle;\n",
       "    }\n",
       "\n",
       "    .dataframe tbody tr th {\n",
       "        vertical-align: top;\n",
       "    }\n",
       "\n",
       "    .dataframe thead th {\n",
       "        text-align: right;\n",
       "    }\n",
       "</style>\n",
       "<table border=\"1\" class=\"dataframe\">\n",
       "  <thead>\n",
       "    <tr style=\"text-align: right;\">\n",
       "      <th></th>\n",
       "      <th>Player</th>\n",
       "      <th>height</th>\n",
       "      <th>weight</th>\n",
       "      <th>collage</th>\n",
       "      <th>born</th>\n",
       "      <th>birth_city</th>\n",
       "      <th>birth_state</th>\n",
       "    </tr>\n",
       "  </thead>\n",
       "  <tbody>\n",
       "    <tr>\n",
       "      <th>0</th>\n",
       "      <td>Curly Armstrong</td>\n",
       "      <td>180.0</td>\n",
       "      <td>77.0</td>\n",
       "      <td>Indiana University</td>\n",
       "      <td>1918.0</td>\n",
       "      <td>NaN</td>\n",
       "      <td>NaN</td>\n",
       "    </tr>\n",
       "    <tr>\n",
       "      <th>1</th>\n",
       "      <td>Cliff Barker</td>\n",
       "      <td>188.0</td>\n",
       "      <td>83.0</td>\n",
       "      <td>University of Kentucky</td>\n",
       "      <td>1921.0</td>\n",
       "      <td>Yorktown</td>\n",
       "      <td>Indiana</td>\n",
       "    </tr>\n",
       "  </tbody>\n",
       "</table>\n",
       "</div>"
      ],
      "text/plain": [
       "            Player  height  weight                 collage    born birth_city  \\\n",
       "0  Curly Armstrong   180.0    77.0      Indiana University  1918.0        NaN   \n",
       "1     Cliff Barker   188.0    83.0  University of Kentucky  1921.0   Yorktown   \n",
       "\n",
       "  birth_state  \n",
       "0         NaN  \n",
       "1     Indiana  "
      ]
     },
     "execution_count": 6,
     "metadata": {},
     "output_type": "execute_result"
    }
   ],
   "source": [
    "players.head(2)"
   ]
  },
  {
   "cell_type": "markdown",
   "metadata": {},
   "source": [
    "### Remove nulls - players table"
   ]
  },
  {
   "cell_type": "code",
   "execution_count": 7,
   "metadata": {},
   "outputs": [
    {
     "data": {
      "text/plain": [
       "Player           1\n",
       "height           1\n",
       "weight           1\n",
       "collage        349\n",
       "born             1\n",
       "birth_city     470\n",
       "birth_state    483\n",
       "dtype: int64"
      ]
     },
     "execution_count": 7,
     "metadata": {},
     "output_type": "execute_result"
    }
   ],
   "source": [
    "players.isnull().sum()\n",
    "#players.info()"
   ]
  },
  {
   "cell_type": "code",
   "execution_count": 8,
   "metadata": {},
   "outputs": [
    {
     "name": "stdout",
     "output_type": "stream",
     "text": [
      "(3921, 7)\n"
     ]
    },
    {
     "data": {
      "text/plain": [
       "Player           0\n",
       "height           0\n",
       "weight           0\n",
       "collage        348\n",
       "born             0\n",
       "birth_city     469\n",
       "birth_state    482\n",
       "dtype: int64"
      ]
     },
     "execution_count": 8,
     "metadata": {},
     "output_type": "execute_result"
    }
   ],
   "source": [
    "players = players.dropna(subset=['Player']).reset_index(drop=True)\n",
    "print(players.shape)\n",
    "players.isnull().sum()"
   ]
  },
  {
   "cell_type": "markdown",
   "metadata": {},
   "source": [
    "### Remove nulls - seasons table"
   ]
  },
  {
   "cell_type": "code",
   "execution_count": 9,
   "metadata": {},
   "outputs": [
    {
     "data": {
      "text/plain": [
       "Year         67\n",
       "Player       67\n",
       "Pos          67\n",
       "Age          75\n",
       "Tm           67\n",
       "G            67\n",
       "GS         6458\n",
       "MP          553\n",
       "PER         590\n",
       "TS%         153\n",
       "3PAr       5852\n",
       "FTr         166\n",
       "ORB%       3899\n",
       "DRB%       3899\n",
       "TRB%       3120\n",
       "AST%       2136\n",
       "STL%       3899\n",
       "BLK%       3899\n",
       "TOV%       5109\n",
       "USG%       5051\n",
       "blanl     24691\n",
       "OWS         106\n",
       "DWS         106\n",
       "WS          106\n",
       "WS/48       590\n",
       "blank2    24691\n",
       "OBPM       3894\n",
       "DBPM       3894\n",
       "BPM        3894\n",
       "VORP       3894\n",
       "FG           67\n",
       "FGA          67\n",
       "FG%         166\n",
       "3P         5764\n",
       "3PA        5764\n",
       "3P%        9275\n",
       "2P           67\n",
       "2PA          67\n",
       "2P%         195\n",
       "eFG%        166\n",
       "FT           67\n",
       "FTA          67\n",
       "FT%         925\n",
       "ORB        3894\n",
       "DRB        3894\n",
       "TRB         379\n",
       "AST          67\n",
       "STL        3894\n",
       "BLK        3894\n",
       "TOV        5046\n",
       "PF           67\n",
       "PTS          67\n",
       "dtype: int64"
      ]
     },
     "execution_count": 9,
     "metadata": {},
     "output_type": "execute_result"
    }
   ],
   "source": [
    "seasons.isnull().sum()"
   ]
  },
  {
   "cell_type": "code",
   "execution_count": 10,
   "metadata": {},
   "outputs": [
    {
     "name": "stdout",
     "output_type": "stream",
     "text": [
      "(24624, 52)\n"
     ]
    },
    {
     "data": {
      "text/plain": [
       "Year          0\n",
       "Player        0\n",
       "Pos           0\n",
       "Age           8\n",
       "Tm            0\n",
       "G             0\n",
       "GS         6391\n",
       "MP          486\n",
       "PER         523\n",
       "TS%          86\n",
       "3PAr       5785\n",
       "FTr          99\n",
       "ORB%       3832\n",
       "DRB%       3832\n",
       "TRB%       3053\n",
       "AST%       2069\n",
       "STL%       3832\n",
       "BLK%       3832\n",
       "TOV%       5042\n",
       "USG%       4984\n",
       "blanl     24624\n",
       "OWS          39\n",
       "DWS          39\n",
       "WS           39\n",
       "WS/48       523\n",
       "blank2    24624\n",
       "OBPM       3827\n",
       "DBPM       3827\n",
       "BPM        3827\n",
       "VORP       3827\n",
       "FG            0\n",
       "FGA           0\n",
       "FG%          99\n",
       "3P         5697\n",
       "3PA        5697\n",
       "3P%        9208\n",
       "2P            0\n",
       "2PA           0\n",
       "2P%         128\n",
       "eFG%         99\n",
       "FT            0\n",
       "FTA           0\n",
       "FT%         858\n",
       "ORB        3827\n",
       "DRB        3827\n",
       "TRB         312\n",
       "AST           0\n",
       "STL        3827\n",
       "BLK        3827\n",
       "TOV        4979\n",
       "PF            0\n",
       "PTS           0\n",
       "dtype: int64"
      ]
     },
     "execution_count": 10,
     "metadata": {},
     "output_type": "execute_result"
    }
   ],
   "source": [
    "seasons = seasons.dropna(subset=['Player']).reset_index(drop=True)\n",
    "print(seasons.shape)\n",
    "seasons.isnull().sum()"
   ]
  },
  {
   "cell_type": "markdown",
   "metadata": {},
   "source": [
    "## DATA PREPERATION"
   ]
  },
  {
   "cell_type": "code",
   "execution_count": 11,
   "metadata": {},
   "outputs": [],
   "source": [
    "# Create New tables with \"Player\" as Index\n",
    "seasons_NI = seasons.set_index('Player',inplace=False) #setting the player name as the seasons index\n",
    "players_NI = players.set_index('Player',inplace=False) #setting the player name as the players index"
   ]
  },
  {
   "cell_type": "code",
   "execution_count": 12,
   "metadata": {},
   "outputs": [
    {
     "name": "stdout",
     "output_type": "stream",
     "text": [
      "                 height  weight\n",
      "Player                         \n",
      "Curly Armstrong   180.0    77.0\n",
      "Cliff Barker      188.0    83.0\n",
      "Leo Barnhorst     193.0    86.0\n",
      "Ed Bartels        196.0    88.0\n",
      "Ralph Beard       178.0    79.0\n",
      "                   Year  Pos   Age   Tm     G  GS  MP  PER    TS%  3PAr  \\\n",
      "Player                                                                    \n",
      "Curly Armstrong  1950.0  G-F  31.0  FTW  63.0 NaN NaN  NaN  0.368   NaN   \n",
      "Cliff Barker     1950.0   SG  29.0  INO  49.0 NaN NaN  NaN  0.435   NaN   \n",
      "Leo Barnhorst    1950.0   SF  25.0  CHS  67.0 NaN NaN  NaN  0.394   NaN   \n",
      "Ed Bartels       1950.0    F  24.0  TOT  15.0 NaN NaN  NaN  0.312   NaN   \n",
      "Ed Bartels       1950.0    F  24.0  DNN  13.0 NaN NaN  NaN  0.308   NaN   \n",
      "\n",
      "                   FTr  ORB%  DRB%  TRB%  AST%  STL%  BLK%  TOV%  USG%  blanl  \\\n",
      "Player                                                                          \n",
      "Curly Armstrong  0.467   NaN   NaN   NaN   NaN   NaN   NaN   NaN   NaN    NaN   \n",
      "Cliff Barker     0.387   NaN   NaN   NaN   NaN   NaN   NaN   NaN   NaN    NaN   \n",
      "Leo Barnhorst    0.259   NaN   NaN   NaN   NaN   NaN   NaN   NaN   NaN    NaN   \n",
      "Ed Bartels       0.395   NaN   NaN   NaN   NaN   NaN   NaN   NaN   NaN    NaN   \n",
      "Ed Bartels       0.378   NaN   NaN   NaN   NaN   NaN   NaN   NaN   NaN    NaN   \n",
      "\n",
      "                 OWS  DWS   WS  WS/48  blank2  OBPM  DBPM  BPM  VORP     FG  \\\n",
      "Player                                                                        \n",
      "Curly Armstrong -0.1  3.6  3.5    NaN     NaN   NaN   NaN  NaN   NaN  144.0   \n",
      "Cliff Barker     1.6  0.6  2.2    NaN     NaN   NaN   NaN  NaN   NaN  102.0   \n",
      "Leo Barnhorst    0.9  2.8  3.6    NaN     NaN   NaN   NaN  NaN   NaN  174.0   \n",
      "Ed Bartels      -0.5 -0.1 -0.6    NaN     NaN   NaN   NaN  NaN   NaN   22.0   \n",
      "Ed Bartels      -0.5 -0.1 -0.6    NaN     NaN   NaN   NaN  NaN   NaN   21.0   \n",
      "\n",
      "                   FGA    FG%  3P  3PA  3P%     2P    2PA    2P%   eFG%  \\\n",
      "Player                                                                    \n",
      "Curly Armstrong  516.0  0.279 NaN  NaN  NaN  144.0  516.0  0.279  0.279   \n",
      "Cliff Barker     274.0  0.372 NaN  NaN  NaN  102.0  274.0  0.372  0.372   \n",
      "Leo Barnhorst    499.0  0.349 NaN  NaN  NaN  174.0  499.0  0.349  0.349   \n",
      "Ed Bartels        86.0  0.256 NaN  NaN  NaN   22.0   86.0  0.256  0.256   \n",
      "Ed Bartels        82.0  0.256 NaN  NaN  NaN   21.0   82.0  0.256  0.256   \n",
      "\n",
      "                    FT    FTA    FT%  ORB  DRB  TRB    AST  STL  BLK  TOV  \\\n",
      "Player                                                                      \n",
      "Curly Armstrong  170.0  241.0  0.705  NaN  NaN  NaN  176.0  NaN  NaN  NaN   \n",
      "Cliff Barker      75.0  106.0  0.708  NaN  NaN  NaN  109.0  NaN  NaN  NaN   \n",
      "Leo Barnhorst     90.0  129.0  0.698  NaN  NaN  NaN  140.0  NaN  NaN  NaN   \n",
      "Ed Bartels        19.0   34.0  0.559  NaN  NaN  NaN   20.0  NaN  NaN  NaN   \n",
      "Ed Bartels        17.0   31.0  0.548  NaN  NaN  NaN   20.0  NaN  NaN  NaN   \n",
      "\n",
      "                    PF    PTS  \n",
      "Player                         \n",
      "Curly Armstrong  217.0  458.0  \n",
      "Cliff Barker      99.0  279.0  \n",
      "Leo Barnhorst    192.0  438.0  \n",
      "Ed Bartels        29.0   63.0  \n",
      "Ed Bartels        27.0   59.0  \n"
     ]
    },
    {
     "data": {
      "text/html": [
       "<div>\n",
       "<style scoped>\n",
       "    .dataframe tbody tr th:only-of-type {\n",
       "        vertical-align: middle;\n",
       "    }\n",
       "\n",
       "    .dataframe tbody tr th {\n",
       "        vertical-align: top;\n",
       "    }\n",
       "\n",
       "    .dataframe thead th {\n",
       "        text-align: right;\n",
       "    }\n",
       "</style>\n",
       "<table border=\"1\" class=\"dataframe\">\n",
       "  <thead>\n",
       "    <tr style=\"text-align: right;\">\n",
       "      <th></th>\n",
       "      <th>Year</th>\n",
       "      <th>Pos</th>\n",
       "      <th>Age</th>\n",
       "      <th>Tm</th>\n",
       "      <th>G</th>\n",
       "      <th>GS</th>\n",
       "      <th>MP</th>\n",
       "      <th>PER</th>\n",
       "      <th>TS%</th>\n",
       "      <th>3PAr</th>\n",
       "      <th>FTr</th>\n",
       "      <th>ORB%</th>\n",
       "      <th>DRB%</th>\n",
       "      <th>TRB%</th>\n",
       "      <th>AST%</th>\n",
       "      <th>STL%</th>\n",
       "      <th>BLK%</th>\n",
       "      <th>TOV%</th>\n",
       "      <th>USG%</th>\n",
       "      <th>blanl</th>\n",
       "      <th>OWS</th>\n",
       "      <th>DWS</th>\n",
       "      <th>WS</th>\n",
       "      <th>WS/48</th>\n",
       "      <th>blank2</th>\n",
       "      <th>OBPM</th>\n",
       "      <th>DBPM</th>\n",
       "      <th>BPM</th>\n",
       "      <th>VORP</th>\n",
       "      <th>FG</th>\n",
       "      <th>FGA</th>\n",
       "      <th>FG%</th>\n",
       "      <th>3P</th>\n",
       "      <th>3PA</th>\n",
       "      <th>3P%</th>\n",
       "      <th>2P</th>\n",
       "      <th>2PA</th>\n",
       "      <th>2P%</th>\n",
       "      <th>eFG%</th>\n",
       "      <th>FT</th>\n",
       "      <th>FTA</th>\n",
       "      <th>FT%</th>\n",
       "      <th>ORB</th>\n",
       "      <th>DRB</th>\n",
       "      <th>TRB</th>\n",
       "      <th>AST</th>\n",
       "      <th>STL</th>\n",
       "      <th>BLK</th>\n",
       "      <th>TOV</th>\n",
       "      <th>PF</th>\n",
       "      <th>PTS</th>\n",
       "    </tr>\n",
       "    <tr>\n",
       "      <th>Player</th>\n",
       "      <th></th>\n",
       "      <th></th>\n",
       "      <th></th>\n",
       "      <th></th>\n",
       "      <th></th>\n",
       "      <th></th>\n",
       "      <th></th>\n",
       "      <th></th>\n",
       "      <th></th>\n",
       "      <th></th>\n",
       "      <th></th>\n",
       "      <th></th>\n",
       "      <th></th>\n",
       "      <th></th>\n",
       "      <th></th>\n",
       "      <th></th>\n",
       "      <th></th>\n",
       "      <th></th>\n",
       "      <th></th>\n",
       "      <th></th>\n",
       "      <th></th>\n",
       "      <th></th>\n",
       "      <th></th>\n",
       "      <th></th>\n",
       "      <th></th>\n",
       "      <th></th>\n",
       "      <th></th>\n",
       "      <th></th>\n",
       "      <th></th>\n",
       "      <th></th>\n",
       "      <th></th>\n",
       "      <th></th>\n",
       "      <th></th>\n",
       "      <th></th>\n",
       "      <th></th>\n",
       "      <th></th>\n",
       "      <th></th>\n",
       "      <th></th>\n",
       "      <th></th>\n",
       "      <th></th>\n",
       "      <th></th>\n",
       "      <th></th>\n",
       "      <th></th>\n",
       "      <th></th>\n",
       "      <th></th>\n",
       "      <th></th>\n",
       "      <th></th>\n",
       "      <th></th>\n",
       "      <th></th>\n",
       "      <th></th>\n",
       "      <th></th>\n",
       "    </tr>\n",
       "  </thead>\n",
       "  <tbody>\n",
       "    <tr>\n",
       "      <th>Curly Armstrong</th>\n",
       "      <td>1950.0</td>\n",
       "      <td>G-F</td>\n",
       "      <td>31.0</td>\n",
       "      <td>FTW</td>\n",
       "      <td>63.0</td>\n",
       "      <td>NaN</td>\n",
       "      <td>NaN</td>\n",
       "      <td>NaN</td>\n",
       "      <td>0.368</td>\n",
       "      <td>NaN</td>\n",
       "      <td>0.467</td>\n",
       "      <td>NaN</td>\n",
       "      <td>NaN</td>\n",
       "      <td>NaN</td>\n",
       "      <td>NaN</td>\n",
       "      <td>NaN</td>\n",
       "      <td>NaN</td>\n",
       "      <td>NaN</td>\n",
       "      <td>NaN</td>\n",
       "      <td>NaN</td>\n",
       "      <td>-0.1</td>\n",
       "      <td>3.6</td>\n",
       "      <td>3.5</td>\n",
       "      <td>NaN</td>\n",
       "      <td>NaN</td>\n",
       "      <td>NaN</td>\n",
       "      <td>NaN</td>\n",
       "      <td>NaN</td>\n",
       "      <td>NaN</td>\n",
       "      <td>144.0</td>\n",
       "      <td>516.0</td>\n",
       "      <td>0.279</td>\n",
       "      <td>NaN</td>\n",
       "      <td>NaN</td>\n",
       "      <td>NaN</td>\n",
       "      <td>144.0</td>\n",
       "      <td>516.0</td>\n",
       "      <td>0.279</td>\n",
       "      <td>0.279</td>\n",
       "      <td>170.0</td>\n",
       "      <td>241.0</td>\n",
       "      <td>0.705</td>\n",
       "      <td>NaN</td>\n",
       "      <td>NaN</td>\n",
       "      <td>NaN</td>\n",
       "      <td>176.0</td>\n",
       "      <td>NaN</td>\n",
       "      <td>NaN</td>\n",
       "      <td>NaN</td>\n",
       "      <td>217.0</td>\n",
       "      <td>458.0</td>\n",
       "    </tr>\n",
       "    <tr>\n",
       "      <th>Cliff Barker</th>\n",
       "      <td>1950.0</td>\n",
       "      <td>SG</td>\n",
       "      <td>29.0</td>\n",
       "      <td>INO</td>\n",
       "      <td>49.0</td>\n",
       "      <td>NaN</td>\n",
       "      <td>NaN</td>\n",
       "      <td>NaN</td>\n",
       "      <td>0.435</td>\n",
       "      <td>NaN</td>\n",
       "      <td>0.387</td>\n",
       "      <td>NaN</td>\n",
       "      <td>NaN</td>\n",
       "      <td>NaN</td>\n",
       "      <td>NaN</td>\n",
       "      <td>NaN</td>\n",
       "      <td>NaN</td>\n",
       "      <td>NaN</td>\n",
       "      <td>NaN</td>\n",
       "      <td>NaN</td>\n",
       "      <td>1.6</td>\n",
       "      <td>0.6</td>\n",
       "      <td>2.2</td>\n",
       "      <td>NaN</td>\n",
       "      <td>NaN</td>\n",
       "      <td>NaN</td>\n",
       "      <td>NaN</td>\n",
       "      <td>NaN</td>\n",
       "      <td>NaN</td>\n",
       "      <td>102.0</td>\n",
       "      <td>274.0</td>\n",
       "      <td>0.372</td>\n",
       "      <td>NaN</td>\n",
       "      <td>NaN</td>\n",
       "      <td>NaN</td>\n",
       "      <td>102.0</td>\n",
       "      <td>274.0</td>\n",
       "      <td>0.372</td>\n",
       "      <td>0.372</td>\n",
       "      <td>75.0</td>\n",
       "      <td>106.0</td>\n",
       "      <td>0.708</td>\n",
       "      <td>NaN</td>\n",
       "      <td>NaN</td>\n",
       "      <td>NaN</td>\n",
       "      <td>109.0</td>\n",
       "      <td>NaN</td>\n",
       "      <td>NaN</td>\n",
       "      <td>NaN</td>\n",
       "      <td>99.0</td>\n",
       "      <td>279.0</td>\n",
       "    </tr>\n",
       "    <tr>\n",
       "      <th>Leo Barnhorst</th>\n",
       "      <td>1950.0</td>\n",
       "      <td>SF</td>\n",
       "      <td>25.0</td>\n",
       "      <td>CHS</td>\n",
       "      <td>67.0</td>\n",
       "      <td>NaN</td>\n",
       "      <td>NaN</td>\n",
       "      <td>NaN</td>\n",
       "      <td>0.394</td>\n",
       "      <td>NaN</td>\n",
       "      <td>0.259</td>\n",
       "      <td>NaN</td>\n",
       "      <td>NaN</td>\n",
       "      <td>NaN</td>\n",
       "      <td>NaN</td>\n",
       "      <td>NaN</td>\n",
       "      <td>NaN</td>\n",
       "      <td>NaN</td>\n",
       "      <td>NaN</td>\n",
       "      <td>NaN</td>\n",
       "      <td>0.9</td>\n",
       "      <td>2.8</td>\n",
       "      <td>3.6</td>\n",
       "      <td>NaN</td>\n",
       "      <td>NaN</td>\n",
       "      <td>NaN</td>\n",
       "      <td>NaN</td>\n",
       "      <td>NaN</td>\n",
       "      <td>NaN</td>\n",
       "      <td>174.0</td>\n",
       "      <td>499.0</td>\n",
       "      <td>0.349</td>\n",
       "      <td>NaN</td>\n",
       "      <td>NaN</td>\n",
       "      <td>NaN</td>\n",
       "      <td>174.0</td>\n",
       "      <td>499.0</td>\n",
       "      <td>0.349</td>\n",
       "      <td>0.349</td>\n",
       "      <td>90.0</td>\n",
       "      <td>129.0</td>\n",
       "      <td>0.698</td>\n",
       "      <td>NaN</td>\n",
       "      <td>NaN</td>\n",
       "      <td>NaN</td>\n",
       "      <td>140.0</td>\n",
       "      <td>NaN</td>\n",
       "      <td>NaN</td>\n",
       "      <td>NaN</td>\n",
       "      <td>192.0</td>\n",
       "      <td>438.0</td>\n",
       "    </tr>\n",
       "    <tr>\n",
       "      <th>Ed Bartels</th>\n",
       "      <td>1950.0</td>\n",
       "      <td>F</td>\n",
       "      <td>24.0</td>\n",
       "      <td>TOT</td>\n",
       "      <td>15.0</td>\n",
       "      <td>NaN</td>\n",
       "      <td>NaN</td>\n",
       "      <td>NaN</td>\n",
       "      <td>0.312</td>\n",
       "      <td>NaN</td>\n",
       "      <td>0.395</td>\n",
       "      <td>NaN</td>\n",
       "      <td>NaN</td>\n",
       "      <td>NaN</td>\n",
       "      <td>NaN</td>\n",
       "      <td>NaN</td>\n",
       "      <td>NaN</td>\n",
       "      <td>NaN</td>\n",
       "      <td>NaN</td>\n",
       "      <td>NaN</td>\n",
       "      <td>-0.5</td>\n",
       "      <td>-0.1</td>\n",
       "      <td>-0.6</td>\n",
       "      <td>NaN</td>\n",
       "      <td>NaN</td>\n",
       "      <td>NaN</td>\n",
       "      <td>NaN</td>\n",
       "      <td>NaN</td>\n",
       "      <td>NaN</td>\n",
       "      <td>22.0</td>\n",
       "      <td>86.0</td>\n",
       "      <td>0.256</td>\n",
       "      <td>NaN</td>\n",
       "      <td>NaN</td>\n",
       "      <td>NaN</td>\n",
       "      <td>22.0</td>\n",
       "      <td>86.0</td>\n",
       "      <td>0.256</td>\n",
       "      <td>0.256</td>\n",
       "      <td>19.0</td>\n",
       "      <td>34.0</td>\n",
       "      <td>0.559</td>\n",
       "      <td>NaN</td>\n",
       "      <td>NaN</td>\n",
       "      <td>NaN</td>\n",
       "      <td>20.0</td>\n",
       "      <td>NaN</td>\n",
       "      <td>NaN</td>\n",
       "      <td>NaN</td>\n",
       "      <td>29.0</td>\n",
       "      <td>63.0</td>\n",
       "    </tr>\n",
       "    <tr>\n",
       "      <th>Ed Bartels</th>\n",
       "      <td>1950.0</td>\n",
       "      <td>F</td>\n",
       "      <td>24.0</td>\n",
       "      <td>DNN</td>\n",
       "      <td>13.0</td>\n",
       "      <td>NaN</td>\n",
       "      <td>NaN</td>\n",
       "      <td>NaN</td>\n",
       "      <td>0.308</td>\n",
       "      <td>NaN</td>\n",
       "      <td>0.378</td>\n",
       "      <td>NaN</td>\n",
       "      <td>NaN</td>\n",
       "      <td>NaN</td>\n",
       "      <td>NaN</td>\n",
       "      <td>NaN</td>\n",
       "      <td>NaN</td>\n",
       "      <td>NaN</td>\n",
       "      <td>NaN</td>\n",
       "      <td>NaN</td>\n",
       "      <td>-0.5</td>\n",
       "      <td>-0.1</td>\n",
       "      <td>-0.6</td>\n",
       "      <td>NaN</td>\n",
       "      <td>NaN</td>\n",
       "      <td>NaN</td>\n",
       "      <td>NaN</td>\n",
       "      <td>NaN</td>\n",
       "      <td>NaN</td>\n",
       "      <td>21.0</td>\n",
       "      <td>82.0</td>\n",
       "      <td>0.256</td>\n",
       "      <td>NaN</td>\n",
       "      <td>NaN</td>\n",
       "      <td>NaN</td>\n",
       "      <td>21.0</td>\n",
       "      <td>82.0</td>\n",
       "      <td>0.256</td>\n",
       "      <td>0.256</td>\n",
       "      <td>17.0</td>\n",
       "      <td>31.0</td>\n",
       "      <td>0.548</td>\n",
       "      <td>NaN</td>\n",
       "      <td>NaN</td>\n",
       "      <td>NaN</td>\n",
       "      <td>20.0</td>\n",
       "      <td>NaN</td>\n",
       "      <td>NaN</td>\n",
       "      <td>NaN</td>\n",
       "      <td>27.0</td>\n",
       "      <td>59.0</td>\n",
       "    </tr>\n",
       "  </tbody>\n",
       "</table>\n",
       "</div>"
      ],
      "text/plain": [
       "                   Year  Pos   Age   Tm     G  GS  MP  PER    TS%  3PAr  \\\n",
       "Player                                                                    \n",
       "Curly Armstrong  1950.0  G-F  31.0  FTW  63.0 NaN NaN  NaN  0.368   NaN   \n",
       "Cliff Barker     1950.0   SG  29.0  INO  49.0 NaN NaN  NaN  0.435   NaN   \n",
       "Leo Barnhorst    1950.0   SF  25.0  CHS  67.0 NaN NaN  NaN  0.394   NaN   \n",
       "Ed Bartels       1950.0    F  24.0  TOT  15.0 NaN NaN  NaN  0.312   NaN   \n",
       "Ed Bartels       1950.0    F  24.0  DNN  13.0 NaN NaN  NaN  0.308   NaN   \n",
       "\n",
       "                   FTr  ORB%  DRB%  TRB%  AST%  STL%  BLK%  TOV%  USG%  blanl  \\\n",
       "Player                                                                          \n",
       "Curly Armstrong  0.467   NaN   NaN   NaN   NaN   NaN   NaN   NaN   NaN    NaN   \n",
       "Cliff Barker     0.387   NaN   NaN   NaN   NaN   NaN   NaN   NaN   NaN    NaN   \n",
       "Leo Barnhorst    0.259   NaN   NaN   NaN   NaN   NaN   NaN   NaN   NaN    NaN   \n",
       "Ed Bartels       0.395   NaN   NaN   NaN   NaN   NaN   NaN   NaN   NaN    NaN   \n",
       "Ed Bartels       0.378   NaN   NaN   NaN   NaN   NaN   NaN   NaN   NaN    NaN   \n",
       "\n",
       "                 OWS  DWS   WS  WS/48  blank2  OBPM  DBPM  BPM  VORP     FG  \\\n",
       "Player                                                                        \n",
       "Curly Armstrong -0.1  3.6  3.5    NaN     NaN   NaN   NaN  NaN   NaN  144.0   \n",
       "Cliff Barker     1.6  0.6  2.2    NaN     NaN   NaN   NaN  NaN   NaN  102.0   \n",
       "Leo Barnhorst    0.9  2.8  3.6    NaN     NaN   NaN   NaN  NaN   NaN  174.0   \n",
       "Ed Bartels      -0.5 -0.1 -0.6    NaN     NaN   NaN   NaN  NaN   NaN   22.0   \n",
       "Ed Bartels      -0.5 -0.1 -0.6    NaN     NaN   NaN   NaN  NaN   NaN   21.0   \n",
       "\n",
       "                   FGA    FG%  3P  3PA  3P%     2P    2PA    2P%   eFG%  \\\n",
       "Player                                                                    \n",
       "Curly Armstrong  516.0  0.279 NaN  NaN  NaN  144.0  516.0  0.279  0.279   \n",
       "Cliff Barker     274.0  0.372 NaN  NaN  NaN  102.0  274.0  0.372  0.372   \n",
       "Leo Barnhorst    499.0  0.349 NaN  NaN  NaN  174.0  499.0  0.349  0.349   \n",
       "Ed Bartels        86.0  0.256 NaN  NaN  NaN   22.0   86.0  0.256  0.256   \n",
       "Ed Bartels        82.0  0.256 NaN  NaN  NaN   21.0   82.0  0.256  0.256   \n",
       "\n",
       "                    FT    FTA    FT%  ORB  DRB  TRB    AST  STL  BLK  TOV  \\\n",
       "Player                                                                      \n",
       "Curly Armstrong  170.0  241.0  0.705  NaN  NaN  NaN  176.0  NaN  NaN  NaN   \n",
       "Cliff Barker      75.0  106.0  0.708  NaN  NaN  NaN  109.0  NaN  NaN  NaN   \n",
       "Leo Barnhorst     90.0  129.0  0.698  NaN  NaN  NaN  140.0  NaN  NaN  NaN   \n",
       "Ed Bartels        19.0   34.0  0.559  NaN  NaN  NaN   20.0  NaN  NaN  NaN   \n",
       "Ed Bartels        17.0   31.0  0.548  NaN  NaN  NaN   20.0  NaN  NaN  NaN   \n",
       "\n",
       "                    PF    PTS  \n",
       "Player                         \n",
       "Curly Armstrong  217.0  458.0  \n",
       "Cliff Barker      99.0  279.0  \n",
       "Leo Barnhorst    192.0  438.0  \n",
       "Ed Bartels        29.0   63.0  \n",
       "Ed Bartels        27.0   59.0  "
      ]
     },
     "execution_count": 12,
     "metadata": {},
     "output_type": "execute_result"
    }
   ],
   "source": [
    "print(players_NI.iloc[:,0:2].drop_duplicates().head())\n",
    "print(seasons_NI.head())\n",
    "#players[players.Player == 'Allen Iverson*'].head()\n",
    "       \n",
    "seasons_NI.head()"
   ]
  },
  {
   "cell_type": "code",
   "execution_count": 13,
   "metadata": {},
   "outputs": [
    {
     "name": "stdout",
     "output_type": "stream",
     "text": [
      "(3921, 7)\n"
     ]
    }
   ],
   "source": [
    "print(players.shape)\n",
    "#print(players_NI.iloc[:,0:2])"
   ]
  },
  {
   "cell_type": "markdown",
   "metadata": {},
   "source": [
    "## Filter Significant players"
   ]
  },
  {
   "cell_type": "code",
   "execution_count": 14,
   "metadata": {},
   "outputs": [
    {
     "name": "stdout",
     "output_type": "stream",
     "text": [
      " DATA FROM 1951: \n",
      "\n",
      "                    G  MP\n",
      "Player                   \n",
      "Paul Arizin*     65.0 NaN\n",
      "Curly Armstrong  38.0 NaN\n",
      "Cliff Barker     56.0 NaN\n",
      "Leo Barnhorst    68.0 NaN\n",
      "Ed Bartels       17.0 NaN\n",
      "\n",
      " DATA FROM 1952: \n",
      "\n",
      "                   G      MP\n",
      "Player                      \n",
      "Paul Arizin*    66.0  2939.0\n",
      "Cliff Barker    44.0   494.0\n",
      "Don Barksdale*  62.0  2014.0\n",
      "Leo Barnhorst   66.0  2344.0\n",
      "Elmer Behnke     4.0    55.0\n"
     ]
    }
   ],
   "source": [
    "#Show data from 1951 and 1952\n",
    "print(' DATA FROM 1951: \\n')\n",
    "print(seasons_NI[seasons_NI['Year']==1951].loc[:,['G', 'MP']].head()) \n",
    "print('\\n DATA FROM 1952: \\n')\n",
    "print(seasons_NI[seasons_NI['Year']==1952].loc[:,['G', 'MP']].head()) \n",
    "\n",
    "# G= Games, MP = Minutes Played\n",
    "seasons_NI = seasons_NI[(((seasons_NI['MP']/seasons_NI['G'])>25) | ((seasons_NI['Year']<1952) & (seasons_NI['G']>30)))]"
   ]
  },
  {
   "cell_type": "markdown",
   "metadata": {},
   "source": [
    "# Join players and seasons tables into \"seasons_new\" - relevant fields only"
   ]
  },
  {
   "cell_type": "code",
   "execution_count": 15,
   "metadata": {},
   "outputs": [
    {
     "name": "stdout",
     "output_type": "stream",
     "text": [
      "                 height  weight\n",
      "Player                         \n",
      "Curly Armstrong   180.0    77.0\n",
      "Cliff Barker      188.0    83.0\n",
      "Leo Barnhorst     193.0    86.0\n",
      "Ed Bartels        196.0    88.0\n",
      "Ralph Beard       178.0    79.0\n",
      "                   Year  Pos\n",
      "Player                      \n",
      "Curly Armstrong  1950.0  G-F\n",
      "Cliff Barker     1950.0   SG\n",
      "Leo Barnhorst    1950.0   SF\n",
      "Ralph Beard      1950.0    G\n",
      "Charlie Black    1950.0  F-C\n"
     ]
    }
   ],
   "source": [
    "print(players_NI.iloc[:,0:2].head())\n",
    "print(seasons_NI.iloc[:,0:2].head())"
   ]
  },
  {
   "cell_type": "code",
   "execution_count": 16,
   "metadata": {
    "scrolled": true
   },
   "outputs": [],
   "source": [
    "players_for_join = players_NI.iloc[:,0:2]\n",
    "seasons_for_join = seasons_NI.iloc[:,0:2]\n",
    "\n",
    "seasons_new = seasons_for_join.join(players_for_join,on='Player')"
   ]
  },
  {
   "cell_type": "code",
   "execution_count": 17,
   "metadata": {
    "scrolled": true
   },
   "outputs": [
    {
     "name": "stdout",
     "output_type": "stream",
     "text": [
      "                   Year  Pos  height  weight\n",
      "Player                                      \n",
      "Curly Armstrong  1950.0  G-F   180.0    77.0\n",
      "Cliff Barker     1950.0   SG   188.0    83.0\n",
      "Leo Barnhorst    1950.0   SF   193.0    86.0\n",
      "Ralph Beard      1950.0    G   178.0    79.0\n",
      "Charlie Black    1950.0  F-C   196.0    90.0\n",
      "8718\n",
      "6720\n",
      "<class 'pandas.core.frame.DataFrame'>\n",
      "Index: 8718 entries, Curly Armstrong to Cody Zeller\n",
      "Data columns (total 4 columns):\n",
      "Year      8718 non-null float64\n",
      "Pos       8718 non-null object\n",
      "height    8718 non-null float64\n",
      "weight    8718 non-null float64\n",
      "dtypes: float64(3), object(1)\n",
      "memory usage: 340.5+ KB\n"
     ]
    }
   ],
   "source": [
    "print(seasons_new.head())\n",
    "print(len(seasons_new))\n",
    "print(len(seasons_new.drop_duplicates()))\n",
    "seasons_new.info()"
   ]
  },
  {
   "cell_type": "markdown",
   "metadata": {},
   "source": [
    "## GROUPING 'POS' INTO 3 POSITIONS"
   ]
  },
  {
   "cell_type": "code",
   "execution_count": 18,
   "metadata": {
    "scrolled": true
   },
   "outputs": [
    {
     "name": "stdout",
     "output_type": "stream",
     "text": [
      "['G-F' 'SG' 'SF' 'G' 'F-C' 'PG' 'F-G' 'C' 'PF' 'F' 'C-F' 'PF-C' 'SF-SG'\n",
      " 'C-PF' 'SG-PG' 'SF-PF' 'PG-SG' 'SG-SF' 'PG-SF' 'SG-PF' 'PF-SF']\n",
      " There are 21 unique positions out of 8718 records.\n"
     ]
    }
   ],
   "source": [
    "print (seasons_new.Pos.unique())\n",
    "unique_count = seasons_new.Pos.nunique()\n",
    "print(f' There are {unique_count} unique positions out of {len(seasons_new)} records.')"
   ]
  },
  {
   "cell_type": "code",
   "execution_count": 19,
   "metadata": {},
   "outputs": [
    {
     "data": {
      "text/html": [
       "<div>\n",
       "<style scoped>\n",
       "    .dataframe tbody tr th:only-of-type {\n",
       "        vertical-align: middle;\n",
       "    }\n",
       "\n",
       "    .dataframe tbody tr th {\n",
       "        vertical-align: top;\n",
       "    }\n",
       "\n",
       "    .dataframe thead th {\n",
       "        text-align: right;\n",
       "    }\n",
       "</style>\n",
       "<table border=\"1\" class=\"dataframe\">\n",
       "  <thead>\n",
       "    <tr style=\"text-align: right;\">\n",
       "      <th></th>\n",
       "      <th>Player</th>\n",
       "    </tr>\n",
       "    <tr>\n",
       "      <th>Pos</th>\n",
       "      <th></th>\n",
       "    </tr>\n",
       "  </thead>\n",
       "  <tbody>\n",
       "    <tr>\n",
       "      <th>C</th>\n",
       "      <td>1451</td>\n",
       "    </tr>\n",
       "    <tr>\n",
       "      <th>C-F</th>\n",
       "      <td>18</td>\n",
       "    </tr>\n",
       "    <tr>\n",
       "      <th>C-PF</th>\n",
       "      <td>5</td>\n",
       "    </tr>\n",
       "    <tr>\n",
       "      <th>F</th>\n",
       "      <td>23</td>\n",
       "    </tr>\n",
       "    <tr>\n",
       "      <th>F-C</th>\n",
       "      <td>39</td>\n",
       "    </tr>\n",
       "    <tr>\n",
       "      <th>F-G</th>\n",
       "      <td>30</td>\n",
       "    </tr>\n",
       "    <tr>\n",
       "      <th>G</th>\n",
       "      <td>51</td>\n",
       "    </tr>\n",
       "    <tr>\n",
       "      <th>G-F</th>\n",
       "      <td>41</td>\n",
       "    </tr>\n",
       "    <tr>\n",
       "      <th>PF</th>\n",
       "      <td>1679</td>\n",
       "    </tr>\n",
       "    <tr>\n",
       "      <th>PF-C</th>\n",
       "      <td>6</td>\n",
       "    </tr>\n",
       "    <tr>\n",
       "      <th>PF-SF</th>\n",
       "      <td>4</td>\n",
       "    </tr>\n",
       "    <tr>\n",
       "      <th>PG</th>\n",
       "      <td>1774</td>\n",
       "    </tr>\n",
       "    <tr>\n",
       "      <th>PG-SF</th>\n",
       "      <td>1</td>\n",
       "    </tr>\n",
       "    <tr>\n",
       "      <th>PG-SG</th>\n",
       "      <td>8</td>\n",
       "    </tr>\n",
       "    <tr>\n",
       "      <th>SF</th>\n",
       "      <td>1768</td>\n",
       "    </tr>\n",
       "    <tr>\n",
       "      <th>SF-PF</th>\n",
       "      <td>6</td>\n",
       "    </tr>\n",
       "    <tr>\n",
       "      <th>SF-SG</th>\n",
       "      <td>12</td>\n",
       "    </tr>\n",
       "    <tr>\n",
       "      <th>SG</th>\n",
       "      <td>1787</td>\n",
       "    </tr>\n",
       "    <tr>\n",
       "      <th>SG-PF</th>\n",
       "      <td>2</td>\n",
       "    </tr>\n",
       "    <tr>\n",
       "      <th>SG-PG</th>\n",
       "      <td>7</td>\n",
       "    </tr>\n",
       "    <tr>\n",
       "      <th>SG-SF</th>\n",
       "      <td>6</td>\n",
       "    </tr>\n",
       "  </tbody>\n",
       "</table>\n",
       "</div>"
      ],
      "text/plain": [
       "       Player\n",
       "Pos          \n",
       "C        1451\n",
       "C-F        18\n",
       "C-PF        5\n",
       "F          23\n",
       "F-C        39\n",
       "F-G        30\n",
       "G          51\n",
       "G-F        41\n",
       "PF       1679\n",
       "PF-C        6\n",
       "PF-SF       4\n",
       "PG       1774\n",
       "PG-SF       1\n",
       "PG-SG       8\n",
       "SF       1768\n",
       "SF-PF       6\n",
       "SF-SG      12\n",
       "SG       1787\n",
       "SG-PF       2\n",
       "SG-PG       7\n",
       "SG-SF       6"
      ]
     },
     "execution_count": 19,
     "metadata": {},
     "output_type": "execute_result"
    }
   ],
   "source": [
    "seasons_new.reset_index(inplace=True)\n",
    "seasons_new.groupby('Pos')[['Player']].count()"
   ]
  },
  {
   "cell_type": "code",
   "execution_count": 20,
   "metadata": {},
   "outputs": [],
   "source": [
    "def changePosition(x):\n",
    "    #if (\"SG\" in x) or (\"PG\" in x):\n",
    "    if (\"G\" in x):\n",
    "        return \"Guard\"\n",
    "    #elif (\"SF\" in x) or (\"PF\" in x):\n",
    "    elif (\"C\" in x):\n",
    "        return \"Center\"\n",
    "    else:\n",
    "        return \"Forward\""
   ]
  },
  {
   "cell_type": "code",
   "execution_count": 21,
   "metadata": {
    "scrolled": true
   },
   "outputs": [
    {
     "name": "stdout",
     "output_type": "stream",
     "text": [
      "              Player    Year    Pos  height  weight Position\n",
      "4914  Allen Iverson*  1997.0     PG   183.0    74.0    Guard\n",
      "5101  Allen Iverson*  1998.0     PG   183.0    74.0    Guard\n",
      "5292  Allen Iverson*  1999.0     SG   183.0    74.0    Guard\n",
      "5453  Allen Iverson*  2000.0     SG   183.0    74.0    Guard\n",
      "5610  Allen Iverson*  2001.0     SG   183.0    74.0    Guard\n",
      "5784  Allen Iverson*  2002.0     SG   183.0    74.0    Guard\n",
      "5953  Allen Iverson*  2003.0     SG   183.0    74.0    Guard\n",
      "6129  Allen Iverson*  2004.0     SG   183.0    74.0    Guard\n",
      "6324  Allen Iverson*  2005.0     PG   183.0    74.0    Guard\n",
      "6523  Allen Iverson*  2006.0     PG   183.0    74.0    Guard\n",
      "6714  Allen Iverson*  2007.0  SG-PG   183.0    74.0    Guard\n",
      "6715  Allen Iverson*  2007.0     PG   183.0    74.0    Guard\n",
      "6716  Allen Iverson*  2007.0     SG   183.0    74.0    Guard\n",
      "6900  Allen Iverson*  2008.0     SG   183.0    74.0    Guard\n",
      "7091  Allen Iverson*  2009.0  PG-SG   183.0    74.0    Guard\n",
      "7092  Allen Iverson*  2009.0     SG   183.0    74.0    Guard\n",
      "7093  Allen Iverson*  2009.0     PG   183.0    74.0    Guard\n",
      "7301  Allen Iverson*  2010.0  SG-PG   183.0    74.0    Guard\n",
      "7302  Allen Iverson*  2010.0     SG   183.0    74.0    Guard\n"
     ]
    }
   ],
   "source": [
    "seasons_new['Pos'].head()\n",
    "seasons_new['Position'] = seasons_new['Pos'].apply(changePosition)\n",
    "print(seasons_new[seasons_new.Player == 'Allen Iverson*'].head(30))\n",
    "#seasons.reset_index(inplace=True)\n",
    "#print(seasons[seasons.Player == 'Allen Iverson*'].head(20))\n",
    "\n",
    "\n"
   ]
  },
  {
   "cell_type": "code",
   "execution_count": 22,
   "metadata": {},
   "outputs": [
    {
     "name": "stdout",
     "output_type": "stream",
     "text": [
      "              Player    Year  height  weight Position  is_duplicate\n",
      "4914  Allen Iverson*  1997.0   183.0    74.0    Guard         False\n",
      "5101  Allen Iverson*  1998.0   183.0    74.0    Guard         False\n",
      "5292  Allen Iverson*  1999.0   183.0    74.0    Guard         False\n",
      "5453  Allen Iverson*  2000.0   183.0    74.0    Guard         False\n",
      "5610  Allen Iverson*  2001.0   183.0    74.0    Guard         False\n",
      "5784  Allen Iverson*  2002.0   183.0    74.0    Guard         False\n",
      "5953  Allen Iverson*  2003.0   183.0    74.0    Guard         False\n",
      "6129  Allen Iverson*  2004.0   183.0    74.0    Guard         False\n",
      "6324  Allen Iverson*  2005.0   183.0    74.0    Guard         False\n",
      "6523  Allen Iverson*  2006.0   183.0    74.0    Guard         False\n",
      "6714  Allen Iverson*  2007.0   183.0    74.0    Guard         False\n",
      "6715  Allen Iverson*  2007.0   183.0    74.0    Guard          True\n",
      "6716  Allen Iverson*  2007.0   183.0    74.0    Guard          True\n",
      "6900  Allen Iverson*  2008.0   183.0    74.0    Guard         False\n",
      "7091  Allen Iverson*  2009.0   183.0    74.0    Guard         False\n",
      "7092  Allen Iverson*  2009.0   183.0    74.0    Guard          True\n",
      "7093  Allen Iverson*  2009.0   183.0    74.0    Guard          True\n",
      "7301  Allen Iverson*  2010.0   183.0    74.0    Guard         False\n",
      "7302  Allen Iverson*  2010.0   183.0    74.0    Guard          True\n"
     ]
    }
   ],
   "source": [
    "seasons_new.drop(['Pos'], axis=1, inplace = True)\n",
    "seasons_new[\"is_duplicate\"]= seasons_new.duplicated()\n",
    "#print(seasons_new[seasons_new.Player == 'Isaiah Thomas'].tail(30))\n",
    "print(seasons_new[seasons_new.Player == 'Allen Iverson*'].head(30))"
   ]
  },
  {
   "cell_type": "code",
   "execution_count": 23,
   "metadata": {},
   "outputs": [],
   "source": [
    "seasons_new.drop(['is_duplicate'], axis=1, inplace = True)\n"
   ]
  },
  {
   "cell_type": "code",
   "execution_count": 24,
   "metadata": {},
   "outputs": [
    {
     "name": "stdout",
     "output_type": "stream",
     "text": [
      "              Player    Year  height  weight Position\n",
      "4914  Allen Iverson*  1997.0   183.0    74.0    Guard\n",
      "5101  Allen Iverson*  1998.0   183.0    74.0    Guard\n",
      "5292  Allen Iverson*  1999.0   183.0    74.0    Guard\n",
      "5453  Allen Iverson*  2000.0   183.0    74.0    Guard\n",
      "5610  Allen Iverson*  2001.0   183.0    74.0    Guard\n",
      "5784  Allen Iverson*  2002.0   183.0    74.0    Guard\n",
      "5953  Allen Iverson*  2003.0   183.0    74.0    Guard\n",
      "6129  Allen Iverson*  2004.0   183.0    74.0    Guard\n",
      "6324  Allen Iverson*  2005.0   183.0    74.0    Guard\n",
      "6523  Allen Iverson*  2006.0   183.0    74.0    Guard\n",
      "6714  Allen Iverson*  2007.0   183.0    74.0    Guard\n",
      "6900  Allen Iverson*  2008.0   183.0    74.0    Guard\n",
      "7091  Allen Iverson*  2009.0   183.0    74.0    Guard\n",
      "7301  Allen Iverson*  2010.0   183.0    74.0    Guard\n"
     ]
    },
    {
     "data": {
      "text/plain": [
       "7966"
      ]
     },
     "execution_count": 24,
     "metadata": {},
     "output_type": "execute_result"
    }
   ],
   "source": [
    "seasons_new = seasons_new.drop_duplicates()\n",
    "print(seasons_new[seasons_new.Player == 'Allen Iverson*'].head(20))\n",
    "len(seasons_new)"
   ]
  },
  {
   "cell_type": "markdown",
   "metadata": {},
   "source": [
    "# GRAPHS"
   ]
  },
  {
   "cell_type": "code",
   "execution_count": 73,
   "metadata": {},
   "outputs": [
    {
     "data": {
      "text/plain": [
       "<matplotlib.axes._subplots.AxesSubplot at 0x20c7b90c5c0>"
      ]
     },
     "execution_count": 73,
     "metadata": {},
     "output_type": "execute_result"
    },
    {
     "data": {
      "image/png": "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\n",
      "text/plain": [
       "<Figure size 432x288 with 1 Axes>"
      ]
     },
     "metadata": {
      "needs_background": "light"
     },
     "output_type": "display_data"
    }
   ],
   "source": [
    "seasons_new.groupby('Position')[['Player']].count().plot(kind='bar',rot=15, title = '# of Players by Position')"
   ]
  },
  {
   "cell_type": "code",
   "execution_count": 72,
   "metadata": {},
   "outputs": [
    {
     "data": {
      "text/plain": [
       "<matplotlib.axes._subplots.AxesSubplot at 0x20c7b8b0208>"
      ]
     },
     "execution_count": 72,
     "metadata": {},
     "output_type": "execute_result"
    },
    {
     "data": {
      "image/png": "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\n",
      "text/plain": [
       "<Figure size 432x288 with 1 Axes>"
      ]
     },
     "metadata": {
      "needs_background": "light"
     },
     "output_type": "display_data"
    }
   ],
   "source": [
    "#print(seasons_new.groupby(['Year','Position'])[['height']].mean())\n",
    "seasons_new.groupby(['Year'])[['height']].mean().plot(title = 'Avg. Height by Year - Over Time')"
   ]
  },
  {
   "cell_type": "code",
   "execution_count": 71,
   "metadata": {},
   "outputs": [
    {
     "data": {
      "text/plain": [
       "<matplotlib.axes._subplots.AxesSubplot at 0x20c7b7ab160>"
      ]
     },
     "execution_count": 71,
     "metadata": {},
     "output_type": "execute_result"
    },
    {
     "data": {
      "image/png": "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\n",
      "text/plain": [
       "<Figure size 432x288 with 1 Axes>"
      ]
     },
     "metadata": {
      "needs_background": "light"
     },
     "output_type": "display_data"
    }
   ],
   "source": [
    "#seasons_new.groupby(['Year'])[['height']].mean().plot(kind='box')\n",
    "seasons_new[['height']].plot(kind='hist', title = 'Players Height Histogram')\n",
    "#df_dessert.groupby('num.of.guests')[['dessert', 'not.dessert']].sum().plot(kind='bar')"
   ]
  },
  {
   "cell_type": "code",
   "execution_count": 66,
   "metadata": {},
   "outputs": [
    {
     "data": {
      "text/plain": [
       "<matplotlib.axes._subplots.AxesSubplot at 0x20c7b4ead68>"
      ]
     },
     "execution_count": 66,
     "metadata": {},
     "output_type": "execute_result"
    },
    {
     "data": {
      "image/png": "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
