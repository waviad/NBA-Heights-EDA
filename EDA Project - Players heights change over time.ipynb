{
 "cells": [
  {
   "cell_type": "markdown",
   "metadata": {},
   "source": [
    "# NBA - 1950-2017 - EXPLORE HEIGHT OVER TIME"
   ]
  },
  {
   "cell_type": "raw",
   "metadata": {},
   "source": [
    "1) Data cleansing\n",
    "2) Data preperation\n",
    "3) Graphs\n",
    "4) Anecdotes"
   ]
  },
  {
   "cell_type": "markdown",
   "metadata": {},
   "source": [
    "## DATA CLEANSING"
   ]
  },
  {
   "cell_type": "markdown",
   "metadata": {},
   "source": [
    "## Import packages"
   ]
  },
  {
   "cell_type": "code",
   "execution_count": 1,
   "metadata": {},
   "outputs": [],
   "source": [
    "import numpy as np \n",
    "import pandas as pd\n",
    "import matplotlib.pyplot as plt\n",
    "import seaborn as sns\n"
   ]
  },
  {
   "cell_type": "markdown",
   "metadata": {},
   "source": [
    "## Read CSV files"
   ]
  },
  {
   "cell_type": "code",
   "execution_count": 2,
   "metadata": {},
   "outputs": [],
   "source": [
    "players = pd.read_csv('Players.csv')\n",
    "seasons = pd.read_csv('Seasons_Stats.csv')\n",
    "#seasons = seasons.drop(seasons.index[len(seasons) - 1])\n"
   ]
  },
  {
   "cell_type": "markdown",
   "metadata": {},
   "source": [
    "### First look at the tables"
   ]
  },
  {
   "cell_type": "code",
   "execution_count": 3,
   "metadata": {},
   "outputs": [
    {
     "name": "stdout",
     "output_type": "stream",
     "text": [
      "(24691, 53)\n"
     ]
    },
    {
     "data": {
      "text/html": [
       "<div>\n",
       "<style scoped>\n",
       "    .dataframe tbody tr th:only-of-type {\n",
       "        vertical-align: middle;\n",
       "    }\n",
       "\n",
       "    .dataframe tbody tr th {\n",
       "        vertical-align: top;\n",
       "    }\n",
       "\n",
       "    .dataframe thead th {\n",
       "        text-align: right;\n",
       "    }\n",
       "</style>\n",
       "<table border=\"1\" class=\"dataframe\">\n",
       "  <thead>\n",
       "    <tr style=\"text-align: right;\">\n",
       "      <th></th>\n",
       "      <th>Unnamed: 0</th>\n",
       "      <th>Year</th>\n",
       "      <th>Player</th>\n",
       "      <th>Pos</th>\n",
       "      <th>Age</th>\n",
       "      <th>Tm</th>\n",
       "      <th>G</th>\n",
       "      <th>GS</th>\n",
       "      <th>MP</th>\n",
       "      <th>PER</th>\n",
       "      <th>TS%</th>\n",
       "      <th>3PAr</th>\n",
       "      <th>FTr</th>\n",
       "      <th>ORB%</th>\n",
       "      <th>DRB%</th>\n",
       "      <th>TRB%</th>\n",
       "      <th>AST%</th>\n",
       "      <th>STL%</th>\n",
       "      <th>BLK%</th>\n",
       "      <th>TOV%</th>\n",
       "      <th>USG%</th>\n",
       "      <th>blanl</th>\n",
       "      <th>OWS</th>\n",
       "      <th>DWS</th>\n",
       "      <th>WS</th>\n",
       "      <th>WS/48</th>\n",
       "      <th>blank2</th>\n",
       "      <th>OBPM</th>\n",
       "      <th>DBPM</th>\n",
       "      <th>BPM</th>\n",
       "      <th>VORP</th>\n",
       "      <th>FG</th>\n",
       "      <th>FGA</th>\n",
       "      <th>FG%</th>\n",
       "      <th>3P</th>\n",
       "      <th>3PA</th>\n",
       "      <th>3P%</th>\n",
       "      <th>2P</th>\n",
       "      <th>2PA</th>\n",
       "      <th>2P%</th>\n",
       "      <th>eFG%</th>\n",
       "      <th>FT</th>\n",
       "      <th>FTA</th>\n",
       "      <th>FT%</th>\n",
       "      <th>ORB</th>\n",
       "      <th>DRB</th>\n",
       "      <th>TRB</th>\n",
       "      <th>AST</th>\n",
       "      <th>STL</th>\n",
       "      <th>BLK</th>\n",
       "      <th>TOV</th>\n",
       "      <th>PF</th>\n",
       "      <th>PTS</th>\n",
       "    </tr>\n",
       "  </thead>\n",
       "  <tbody>\n",
       "    <tr>\n",
       "      <th>0</th>\n",
       "      <td>0</td>\n",
       "      <td>1950.0</td>\n",
       "      <td>Curly Armstrong</td>\n",
       "      <td>G-F</td>\n",
       "      <td>31.0</td>\n",
       "      <td>FTW</td>\n",
       "      <td>63.0</td>\n",
       "      <td>NaN</td>\n",
       "      <td>NaN</td>\n",
       "      <td>NaN</td>\n",
       "      <td>0.368</td>\n",
       "      <td>NaN</td>\n",
       "      <td>0.467</td>\n",
       "      <td>NaN</td>\n",
       "      <td>NaN</td>\n",
       "      <td>NaN</td>\n",
       "      <td>NaN</td>\n",
       "      <td>NaN</td>\n",
       "      <td>NaN</td>\n",
       "      <td>NaN</td>\n",
       "      <td>NaN</td>\n",
       "      <td>NaN</td>\n",
       "      <td>-0.1</td>\n",
       "      <td>3.6</td>\n",
       "      <td>3.5</td>\n",
       "      <td>NaN</td>\n",
       "      <td>NaN</td>\n",
       "      <td>NaN</td>\n",
       "      <td>NaN</td>\n",
       "      <td>NaN</td>\n",
       "      <td>NaN</td>\n",
       "      <td>144.0</td>\n",
       "      <td>516.0</td>\n",
       "      <td>0.279</td>\n",
       "      <td>NaN</td>\n",
       "      <td>NaN</td>\n",
       "      <td>NaN</td>\n",
       "      <td>144.0</td>\n",
       "      <td>516.0</td>\n",
       "      <td>0.279</td>\n",
       "      <td>0.279</td>\n",
       "      <td>170.0</td>\n",
       "      <td>241.0</td>\n",
       "      <td>0.705</td>\n",
       "      <td>NaN</td>\n",
       "      <td>NaN</td>\n",
       "      <td>NaN</td>\n",
       "      <td>176.0</td>\n",
       "      <td>NaN</td>\n",
       "      <td>NaN</td>\n",
       "      <td>NaN</td>\n",
       "      <td>217.0</td>\n",
       "      <td>458.0</td>\n",
       "    </tr>\n",
       "    <tr>\n",
       "      <th>1</th>\n",
       "      <td>1</td>\n",
       "      <td>1950.0</td>\n",
       "      <td>Cliff Barker</td>\n",
       "      <td>SG</td>\n",
       "      <td>29.0</td>\n",
       "      <td>INO</td>\n",
       "      <td>49.0</td>\n",
       "      <td>NaN</td>\n",
       "      <td>NaN</td>\n",
       "      <td>NaN</td>\n",
       "      <td>0.435</td>\n",
       "      <td>NaN</td>\n",
       "      <td>0.387</td>\n",
       "      <td>NaN</td>\n",
       "      <td>NaN</td>\n",
       "      <td>NaN</td>\n",
       "      <td>NaN</td>\n",
       "      <td>NaN</td>\n",
       "      <td>NaN</td>\n",
       "      <td>NaN</td>\n",
       "      <td>NaN</td>\n",
       "      <td>NaN</td>\n",
       "      <td>1.6</td>\n",
       "      <td>0.6</td>\n",
       "      <td>2.2</td>\n",
       "      <td>NaN</td>\n",
       "      <td>NaN</td>\n",
       "      <td>NaN</td>\n",
       "      <td>NaN</td>\n",
       "      <td>NaN</td>\n",
       "      <td>NaN</td>\n",
       "      <td>102.0</td>\n",
       "      <td>274.0</td>\n",
       "      <td>0.372</td>\n",
       "      <td>NaN</td>\n",
       "      <td>NaN</td>\n",
       "      <td>NaN</td>\n",
       "      <td>102.0</td>\n",
       "      <td>274.0</td>\n",
       "      <td>0.372</td>\n",
       "      <td>0.372</td>\n",
       "      <td>75.0</td>\n",
       "      <td>106.0</td>\n",
       "      <td>0.708</td>\n",
       "      <td>NaN</td>\n",
       "      <td>NaN</td>\n",
       "      <td>NaN</td>\n",
       "      <td>109.0</td>\n",
       "      <td>NaN</td>\n",
       "      <td>NaN</td>\n",
       "      <td>NaN</td>\n",
       "      <td>99.0</td>\n",
       "      <td>279.0</td>\n",
       "    </tr>\n",
       "  </tbody>\n",
       "</table>\n",
       "</div>"
      ],
      "text/plain": [
       "   Unnamed: 0    Year           Player  Pos   Age   Tm     G  GS  MP  PER  \\\n",
       "0           0  1950.0  Curly Armstrong  G-F  31.0  FTW  63.0 NaN NaN  NaN   \n",
       "1           1  1950.0     Cliff Barker   SG  29.0  INO  49.0 NaN NaN  NaN   \n",
       "\n",
       "     TS%  3PAr    FTr  ORB%  DRB%  TRB%  AST%  STL%  BLK%  TOV%  USG%  blanl  \\\n",
       "0  0.368   NaN  0.467   NaN   NaN   NaN   NaN   NaN   NaN   NaN   NaN    NaN   \n",
       "1  0.435   NaN  0.387   NaN   NaN   NaN   NaN   NaN   NaN   NaN   NaN    NaN   \n",
       "\n",
       "   OWS  DWS   WS  WS/48  blank2  OBPM  DBPM  BPM  VORP     FG    FGA    FG%  \\\n",
       "0 -0.1  3.6  3.5    NaN     NaN   NaN   NaN  NaN   NaN  144.0  516.0  0.279   \n",
       "1  1.6  0.6  2.2    NaN     NaN   NaN   NaN  NaN   NaN  102.0  274.0  0.372   \n",
       "\n",
       "   3P  3PA  3P%     2P    2PA    2P%   eFG%     FT    FTA    FT%  ORB  DRB  \\\n",
       "0 NaN  NaN  NaN  144.0  516.0  0.279  0.279  170.0  241.0  0.705  NaN  NaN   \n",
       "1 NaN  NaN  NaN  102.0  274.0  0.372  0.372   75.0  106.0  0.708  NaN  NaN   \n",
       "\n",
       "   TRB    AST  STL  BLK  TOV     PF    PTS  \n",
       "0  NaN  176.0  NaN  NaN  NaN  217.0  458.0  \n",
       "1  NaN  109.0  NaN  NaN  NaN   99.0  279.0  "
      ]
     },
     "execution_count": 3,
     "metadata": {},
     "output_type": "execute_result"
    }
   ],
   "source": [
    "# SEASONS TABLE\n",
    "pd.set_option('display.max_columns', 60)\n",
    "print(seasons.shape)\n",
    "#print('seasons table has '+ str(len(seasons))+ ' rows.')\n",
    "seasons.head(2)"
   ]
  },
  {
   "cell_type": "code",
   "execution_count": 4,
   "metadata": {},
   "outputs": [
    {
     "name": "stdout",
     "output_type": "stream",
     "text": [
      "(3922, 8)\n"
     ]
    },
    {
     "data": {
      "text/html": [
       "<div>\n",
       "<style scoped>\n",
       "    .dataframe tbody tr th:only-of-type {\n",
       "        vertical-align: middle;\n",
       "    }\n",
       "\n",
       "    .dataframe tbody tr th {\n",
       "        vertical-align: top;\n",
       "    }\n",
       "\n",
       "    .dataframe thead th {\n",
       "        text-align: right;\n",
       "    }\n",
       "</style>\n",
       "<table border=\"1\" class=\"dataframe\">\n",
       "  <thead>\n",
       "    <tr style=\"text-align: right;\">\n",
       "      <th></th>\n",
       "      <th>Unnamed: 0</th>\n",
       "      <th>Player</th>\n",
       "      <th>height</th>\n",
       "      <th>weight</th>\n",
       "      <th>collage</th>\n",
       "      <th>born</th>\n",
       "      <th>birth_city</th>\n",
       "      <th>birth_state</th>\n",
       "    </tr>\n",
       "  </thead>\n",
       "  <tbody>\n",
       "    <tr>\n",
       "      <th>0</th>\n",
       "      <td>0</td>\n",
       "      <td>Curly Armstrong</td>\n",
       "      <td>180.0</td>\n",
       "      <td>77.0</td>\n",
       "      <td>Indiana University</td>\n",
       "      <td>1918.0</td>\n",
       "      <td>NaN</td>\n",
       "      <td>NaN</td>\n",
       "    </tr>\n",
       "    <tr>\n",
       "      <th>1</th>\n",
       "      <td>1</td>\n",
       "      <td>Cliff Barker</td>\n",
       "      <td>188.0</td>\n",
       "      <td>83.0</td>\n",
       "      <td>University of Kentucky</td>\n",
       "      <td>1921.0</td>\n",
       "      <td>Yorktown</td>\n",
       "      <td>Indiana</td>\n",
       "    </tr>\n",
       "  </tbody>\n",
       "</table>\n",
       "</div>"
      ],
      "text/plain": [
       "   Unnamed: 0           Player  height  weight                 collage  \\\n",
       "0           0  Curly Armstrong   180.0    77.0      Indiana University   \n",
       "1           1     Cliff Barker   188.0    83.0  University of Kentucky   \n",
       "\n",
       "     born birth_city birth_state  \n",
       "0  1918.0        NaN         NaN  \n",
       "1  1921.0   Yorktown     Indiana  "
      ]
     },
     "execution_count": 4,
     "metadata": {},
     "output_type": "execute_result"
    }
   ],
   "source": [
    "# PLAYERS TABLE\n",
    "print(players.shape)\n",
    "#print('players table has '+ str(len(players))+ ' rows.')\n",
    "players.head(2)"
   ]
  },
  {
   "cell_type": "markdown",
   "metadata": {},
   "source": [
    "Remove \"Unnamed: 0\" column"
   ]
  },
  {
   "cell_type": "code",
   "execution_count": 5,
   "metadata": {},
   "outputs": [],
   "source": [
    "seasons.drop('Unnamed: 0',axis=1,inplace=True)\n",
    "players.drop('Unnamed: 0',axis=1,inplace=True)"
   ]
  },
  {
   "cell_type": "code",
   "execution_count": 6,
   "metadata": {},
   "outputs": [
    {
     "data": {
      "text/html": [
       "<div>\n",
       "<style scoped>\n",
       "    .dataframe tbody tr th:only-of-type {\n",
       "        vertical-align: middle;\n",
       "    }\n",
       "\n",
       "    .dataframe tbody tr th {\n",
       "        vertical-align: top;\n",
       "    }\n",
       "\n",
       "    .dataframe thead th {\n",
       "        text-align: right;\n",
       "    }\n",
       "</style>\n",
       "<table border=\"1\" class=\"dataframe\">\n",
       "  <thead>\n",
       "    <tr style=\"text-align: right;\">\n",
       "      <th></th>\n",
       "      <th>Player</th>\n",
       "      <th>height</th>\n",
       "      <th>weight</th>\n",
       "      <th>collage</th>\n",
       "      <th>born</th>\n",
       "      <th>birth_city</th>\n",
       "      <th>birth_state</th>\n",
       "    </tr>\n",
       "  </thead>\n",
       "  <tbody>\n",
       "    <tr>\n",
       "      <th>0</th>\n",
       "      <td>Curly Armstrong</td>\n",
       "      <td>180.0</td>\n",
       "      <td>77.0</td>\n",
       "      <td>Indiana University</td>\n",
       "      <td>1918.0</td>\n",
       "      <td>NaN</td>\n",
       "      <td>NaN</td>\n",
       "    </tr>\n",
       "    <tr>\n",
       "      <th>1</th>\n",
       "      <td>Cliff Barker</td>\n",
       "      <td>188.0</td>\n",
       "      <td>83.0</td>\n",
       "      <td>University of Kentucky</td>\n",
       "      <td>1921.0</td>\n",
       "      <td>Yorktown</td>\n",
       "      <td>Indiana</td>\n",
       "    </tr>\n",
       "  </tbody>\n",
       "</table>\n",
       "</div>"
      ],
      "text/plain": [
       "            Player  height  weight                 collage    born birth_city  \\\n",
       "0  Curly Armstrong   180.0    77.0      Indiana University  1918.0        NaN   \n",
       "1     Cliff Barker   188.0    83.0  University of Kentucky  1921.0   Yorktown   \n",
       "\n",
       "  birth_state  \n",
       "0         NaN  \n",
       "1     Indiana  "
      ]
     },
     "execution_count": 6,
     "metadata": {},
     "output_type": "execute_result"
    }
   ],
   "source": [
    "players.head(2)"
   ]
  },
  {
   "cell_type": "markdown",
   "metadata": {},
   "source": [
    "### Remove nulls - players table"
   ]
  },
  {
   "cell_type": "code",
   "execution_count": 7,
   "metadata": {},
   "outputs": [
    {
     "data": {
      "text/plain": [
       "Player           1\n",
       "height           1\n",
       "weight           1\n",
       "collage        349\n",
       "born             1\n",
       "birth_city     470\n",
       "birth_state    483\n",
       "dtype: int64"
      ]
     },
     "execution_count": 7,
     "metadata": {},
     "output_type": "execute_result"
    }
   ],
   "source": [
    "players.isnull().sum()\n",
    "#players.info()"
   ]
  },
  {
   "cell_type": "code",
   "execution_count": 8,
   "metadata": {},
   "outputs": [
    {
     "name": "stdout",
     "output_type": "stream",
     "text": [
      "(3921, 7)\n"
     ]
    },
    {
     "data": {
      "text/plain": [
       "Player           0\n",
       "height           0\n",
       "weight           0\n",
       "collage        348\n",
       "born             0\n",
       "birth_city     469\n",
       "birth_state    482\n",
       "dtype: int64"
      ]
     },
     "execution_count": 8,
     "metadata": {},
     "output_type": "execute_result"
    }
   ],
   "source": [
    "players = players.dropna(subset=['Player']).reset_index(drop=True)\n",
    "print(players.shape)\n",
    "players.isnull().sum()"
   ]
  },
  {
   "cell_type": "markdown",
   "metadata": {},
   "source": [
    "### Remove nulls - seasons table"
   ]
  },
  {
   "cell_type": "code",
   "execution_count": 9,
   "metadata": {},
   "outputs": [
    {
     "data": {
      "text/plain": [
       "Year         67\n",
       "Player       67\n",
       "Pos          67\n",
       "Age          75\n",
       "Tm           67\n",
       "G            67\n",
       "GS         6458\n",
       "MP          553\n",
       "PER         590\n",
       "TS%         153\n",
       "3PAr       5852\n",
       "FTr         166\n",
       "ORB%       3899\n",
       "DRB%       3899\n",
       "TRB%       3120\n",
       "AST%       2136\n",
       "STL%       3899\n",
       "BLK%       3899\n",
       "TOV%       5109\n",
       "USG%       5051\n",
       "blanl     24691\n",
       "OWS         106\n",
       "DWS         106\n",
       "WS          106\n",
       "WS/48       590\n",
       "blank2    24691\n",
       "OBPM       3894\n",
       "DBPM       3894\n",
       "BPM        3894\n",
       "VORP       3894\n",
       "FG           67\n",
       "FGA          67\n",
       "FG%         166\n",
       "3P         5764\n",
       "3PA        5764\n",
       "3P%        9275\n",
       "2P           67\n",
       "2PA          67\n",
       "2P%         195\n",
       "eFG%        166\n",
       "FT           67\n",
       "FTA          67\n",
       "FT%         925\n",
       "ORB        3894\n",
       "DRB        3894\n",
       "TRB         379\n",
       "AST          67\n",
       "STL        3894\n",
       "BLK        3894\n",
       "TOV        5046\n",
       "PF           67\n",
       "PTS          67\n",
       "dtype: int64"
      ]
     },
     "execution_count": 9,
     "metadata": {},
     "output_type": "execute_result"
    }
   ],
   "source": [
    "seasons.isnull().sum()"
   ]
  },
  {
   "cell_type": "code",
   "execution_count": 10,
   "metadata": {},
   "outputs": [
    {
     "name": "stdout",
     "output_type": "stream",
     "text": [
      "(24624, 52)\n"
     ]
    },
    {
     "data": {
      "text/plain": [
       "Year          0\n",
       "Player        0\n",
       "Pos           0\n",
       "Age           8\n",
       "Tm            0\n",
       "G             0\n",
       "GS         6391\n",
       "MP          486\n",
       "PER         523\n",
       "TS%          86\n",
       "3PAr       5785\n",
       "FTr          99\n",
       "ORB%       3832\n",
       "DRB%       3832\n",
       "TRB%       3053\n",
       "AST%       2069\n",
       "STL%       3832\n",
       "BLK%       3832\n",
       "TOV%       5042\n",
       "USG%       4984\n",
       "blanl     24624\n",
       "OWS          39\n",
       "DWS          39\n",
       "WS           39\n",
       "WS/48       523\n",
       "blank2    24624\n",
       "OBPM       3827\n",
       "DBPM       3827\n",
       "BPM        3827\n",
       "VORP       3827\n",
       "FG            0\n",
       "FGA           0\n",
       "FG%          99\n",
       "3P         5697\n",
       "3PA        5697\n",
       "3P%        9208\n",
       "2P            0\n",
       "2PA           0\n",
       "2P%         128\n",
       "eFG%         99\n",
       "FT            0\n",
       "FTA           0\n",
       "FT%         858\n",
       "ORB        3827\n",
       "DRB        3827\n",
       "TRB         312\n",
       "AST           0\n",
       "STL        3827\n",
       "BLK        3827\n",
       "TOV        4979\n",
       "PF            0\n",
       "PTS           0\n",
       "dtype: int64"
      ]
     },
     "execution_count": 10,
     "metadata": {},
     "output_type": "execute_result"
    }
   ],
   "source": [
    "seasons = seasons.dropna(subset=['Player']).reset_index(drop=True)\n",
    "print(seasons.shape)\n",
    "seasons.isnull().sum()"
   ]
  },
  {
   "cell_type": "markdown",
   "metadata": {},
   "source": [
    "## DATA PREPERATION"
   ]
  },
  {
   "cell_type": "code",
   "execution_count": 11,
   "metadata": {},
   "outputs": [],
   "source": [
    "# Create New tables with \"Player\" as Index\n",
    "seasons_NI = seasons.set_index('Player',inplace=False) #setting the player name as the seasons index\n",
    "players_NI = players.set_index('Player',inplace=False) #setting the player name as the players index"
   ]
  },
  {
   "cell_type": "code",
   "execution_count": 12,
   "metadata": {},
   "outputs": [
    {
     "name": "stdout",
     "output_type": "stream",
     "text": [
      "                 height  weight\n",
      "Player                         \n",
      "Curly Armstrong   180.0    77.0\n",
      "Cliff Barker      188.0    83.0\n",
      "Leo Barnhorst     193.0    86.0\n",
      "Ed Bartels        196.0    88.0\n",
      "Ralph Beard       178.0    79.0\n",
      "                   Year  Pos   Age   Tm     G  GS  MP  PER    TS%  3PAr  \\\n",
      "Player                                                                    \n",
      "Curly Armstrong  1950.0  G-F  31.0  FTW  63.0 NaN NaN  NaN  0.368   NaN   \n",
      "Cliff Barker     1950.0   SG  29.0  INO  49.0 NaN NaN  NaN  0.435   NaN   \n",
      "Leo Barnhorst    1950.0   SF  25.0  CHS  67.0 NaN NaN  NaN  0.394   NaN   \n",
      "Ed Bartels       1950.0    F  24.0  TOT  15.0 NaN NaN  NaN  0.312   NaN   \n",
      "Ed Bartels       1950.0    F  24.0  DNN  13.0 NaN NaN  NaN  0.308   NaN   \n",
      "\n",
      "                   FTr  ORB%  DRB%  TRB%  AST%  STL%  BLK%  TOV%  USG%  blanl  \\\n",
      "Player                                                                          \n",
      "Curly Armstrong  0.467   NaN   NaN   NaN   NaN   NaN   NaN   NaN   NaN    NaN   \n",
      "Cliff Barker     0.387   NaN   NaN   NaN   NaN   NaN   NaN   NaN   NaN    NaN   \n",
      "Leo Barnhorst    0.259   NaN   NaN   NaN   NaN   NaN   NaN   NaN   NaN    NaN   \n",
      "Ed Bartels       0.395   NaN   NaN   NaN   NaN   NaN   NaN   NaN   NaN    NaN   \n",
      "Ed Bartels       0.378   NaN   NaN   NaN   NaN   NaN   NaN   NaN   NaN    NaN   \n",
      "\n",
      "                 OWS  DWS   WS  WS/48  blank2  OBPM  DBPM  BPM  VORP     FG  \\\n",
      "Player                                                                        \n",
      "Curly Armstrong -0.1  3.6  3.5    NaN     NaN   NaN   NaN  NaN   NaN  144.0   \n",
      "Cliff Barker     1.6  0.6  2.2    NaN     NaN   NaN   NaN  NaN   NaN  102.0   \n",
      "Leo Barnhorst    0.9  2.8  3.6    NaN     NaN   NaN   NaN  NaN   NaN  174.0   \n",
      "Ed Bartels      -0.5 -0.1 -0.6    NaN     NaN   NaN   NaN  NaN   NaN   22.0   \n",
      "Ed Bartels      -0.5 -0.1 -0.6    NaN     NaN   NaN   NaN  NaN   NaN   21.0   \n",
      "\n",
      "                   FGA    FG%  3P  3PA  3P%     2P    2PA    2P%   eFG%  \\\n",
      "Player                                                                    \n",
      "Curly Armstrong  516.0  0.279 NaN  NaN  NaN  144.0  516.0  0.279  0.279   \n",
      "Cliff Barker     274.0  0.372 NaN  NaN  NaN  102.0  274.0  0.372  0.372   \n",
      "Leo Barnhorst    499.0  0.349 NaN  NaN  NaN  174.0  499.0  0.349  0.349   \n",
      "Ed Bartels        86.0  0.256 NaN  NaN  NaN   22.0   86.0  0.256  0.256   \n",
      "Ed Bartels        82.0  0.256 NaN  NaN  NaN   21.0   82.0  0.256  0.256   \n",
      "\n",
      "                    FT    FTA    FT%  ORB  DRB  TRB    AST  STL  BLK  TOV  \\\n",
      "Player                                                                      \n",
      "Curly Armstrong  170.0  241.0  0.705  NaN  NaN  NaN  176.0  NaN  NaN  NaN   \n",
      "Cliff Barker      75.0  106.0  0.708  NaN  NaN  NaN  109.0  NaN  NaN  NaN   \n",
      "Leo Barnhorst     90.0  129.0  0.698  NaN  NaN  NaN  140.0  NaN  NaN  NaN   \n",
      "Ed Bartels        19.0   34.0  0.559  NaN  NaN  NaN   20.0  NaN  NaN  NaN   \n",
      "Ed Bartels        17.0   31.0  0.548  NaN  NaN  NaN   20.0  NaN  NaN  NaN   \n",
      "\n",
      "                    PF    PTS  \n",
      "Player                         \n",
      "Curly Armstrong  217.0  458.0  \n",
      "Cliff Barker      99.0  279.0  \n",
      "Leo Barnhorst    192.0  438.0  \n",
      "Ed Bartels        29.0   63.0  \n",
      "Ed Bartels        27.0   59.0  \n"
     ]
    },
    {
     "data": {
      "text/html": [
       "<div>\n",
       "<style scoped>\n",
       "    .dataframe tbody tr th:only-of-type {\n",
       "        vertical-align: middle;\n",
       "    }\n",
       "\n",
       "    .dataframe tbody tr th {\n",
       "        vertical-align: top;\n",
       "    }\n",
       "\n",
       "    .dataframe thead th {\n",
       "        text-align: right;\n",
       "    }\n",
       "</style>\n",
       "<table border=\"1\" class=\"dataframe\">\n",
       "  <thead>\n",
       "    <tr style=\"text-align: right;\">\n",
       "      <th></th>\n",
       "      <th>Year</th>\n",
       "      <th>Pos</th>\n",
       "      <th>Age</th>\n",
       "      <th>Tm</th>\n",
       "      <th>G</th>\n",
       "      <th>GS</th>\n",
       "      <th>MP</th>\n",
       "      <th>PER</th>\n",
       "      <th>TS%</th>\n",
       "      <th>3PAr</th>\n",
       "      <th>FTr</th>\n",
       "      <th>ORB%</th>\n",
       "      <th>DRB%</th>\n",
       "      <th>TRB%</th>\n",
       "      <th>AST%</th>\n",
       "      <th>STL%</th>\n",
       "      <th>BLK%</th>\n",
       "      <th>TOV%</th>\n",
       "      <th>USG%</th>\n",
       "      <th>blanl</th>\n",
       "      <th>OWS</th>\n",
       "      <th>DWS</th>\n",
       "      <th>WS</th>\n",
       "      <th>WS/48</th>\n",
       "      <th>blank2</th>\n",
       "      <th>OBPM</th>\n",
       "      <th>DBPM</th>\n",
       "      <th>BPM</th>\n",
       "      <th>VORP</th>\n",
       "      <th>FG</th>\n",
       "      <th>FGA</th>\n",
       "      <th>FG%</th>\n",
       "      <th>3P</th>\n",
       "      <th>3PA</th>\n",
       "      <th>3P%</th>\n",
       "      <th>2P</th>\n",
       "      <th>2PA</th>\n",
       "      <th>2P%</th>\n",
       "      <th>eFG%</th>\n",
       "      <th>FT</th>\n",
       "      <th>FTA</th>\n",
       "      <th>FT%</th>\n",
       "      <th>ORB</th>\n",
       "      <th>DRB</th>\n",
       "      <th>TRB</th>\n",
       "      <th>AST</th>\n",
       "      <th>STL</th>\n",
       "      <th>BLK</th>\n",
       "      <th>TOV</th>\n",
       "      <th>PF</th>\n",
       "      <th>PTS</th>\n",
       "    </tr>\n",
       "    <tr>\n",
       "      <th>Player</th>\n",
       "      <th></th>\n",
       "      <th></th>\n",
       "      <th></th>\n",
       "      <th></th>\n",
       "      <th></th>\n",
       "      <th></th>\n",
       "      <th></th>\n",
       "      <th></th>\n",
       "      <th></th>\n",
       "      <th></th>\n",
       "      <th></th>\n",
       "      <th></th>\n",
       "      <th></th>\n",
       "      <th></th>\n",
       "      <th></th>\n",
       "      <th></th>\n",
       "      <th></th>\n",
       "      <th></th>\n",
       "      <th></th>\n",
       "      <th></th>\n",
       "      <th></th>\n",
       "      <th></th>\n",
       "      <th></th>\n",
       "      <th></th>\n",
       "      <th></th>\n",
       "      <th></th>\n",
       "      <th></th>\n",
       "      <th></th>\n",
       "      <th></th>\n",
       "      <th></th>\n",
       "      <th></th>\n",
       "      <th></th>\n",
       "      <th></th>\n",
       "      <th></th>\n",
       "      <th></th>\n",
       "      <th></th>\n",
       "      <th></th>\n",
       "      <th></th>\n",
       "      <th></th>\n",
       "      <th></th>\n",
       "      <th></th>\n",
       "      <th></th>\n",
       "      <th></th>\n",
       "      <th></th>\n",
       "      <th></th>\n",
       "      <th></th>\n",
       "      <th></th>\n",
       "      <th></th>\n",
       "      <th></th>\n",
       "      <th></th>\n",
       "      <th></th>\n",
       "    </tr>\n",
       "  </thead>\n",
       "  <tbody>\n",
       "    <tr>\n",
       "      <th>Curly Armstrong</th>\n",
       "      <td>1950.0</td>\n",
       "      <td>G-F</td>\n",
       "      <td>31.0</td>\n",
       "      <td>FTW</td>\n",
       "      <td>63.0</td>\n",
       "      <td>NaN</td>\n",
       "      <td>NaN</td>\n",
       "      <td>NaN</td>\n",
       "      <td>0.368</td>\n",
       "      <td>NaN</td>\n",
       "      <td>0.467</td>\n",
       "      <td>NaN</td>\n",
       "      <td>NaN</td>\n",
       "      <td>NaN</td>\n",
       "      <td>NaN</td>\n",
       "      <td>NaN</td>\n",
       "      <td>NaN</td>\n",
       "      <td>NaN</td>\n",
       "      <td>NaN</td>\n",
       "      <td>NaN</td>\n",
       "      <td>-0.1</td>\n",
       "      <td>3.6</td>\n",
       "      <td>3.5</td>\n",
       "      <td>NaN</td>\n",
       "      <td>NaN</td>\n",
       "      <td>NaN</td>\n",
       "      <td>NaN</td>\n",
       "      <td>NaN</td>\n",
       "      <td>NaN</td>\n",
       "      <td>144.0</td>\n",
       "      <td>516.0</td>\n",
       "      <td>0.279</td>\n",
       "      <td>NaN</td>\n",
       "      <td>NaN</td>\n",
       "      <td>NaN</td>\n",
       "      <td>144.0</td>\n",
       "      <td>516.0</td>\n",
       "      <td>0.279</td>\n",
       "      <td>0.279</td>\n",
       "      <td>170.0</td>\n",
       "      <td>241.0</td>\n",
       "      <td>0.705</td>\n",
       "      <td>NaN</td>\n",
       "      <td>NaN</td>\n",
       "      <td>NaN</td>\n",
       "      <td>176.0</td>\n",
       "      <td>NaN</td>\n",
       "      <td>NaN</td>\n",
       "      <td>NaN</td>\n",
       "      <td>217.0</td>\n",
       "      <td>458.0</td>\n",
       "    </tr>\n",
       "    <tr>\n",
       "      <th>Cliff Barker</th>\n",
       "      <td>1950.0</td>\n",
       "      <td>SG</td>\n",
       "      <td>29.0</td>\n",
       "      <td>INO</td>\n",
       "      <td>49.0</td>\n",
       "      <td>NaN</td>\n",
       "      <td>NaN</td>\n",
       "      <td>NaN</td>\n",
       "      <td>0.435</td>\n",
       "      <td>NaN</td>\n",
       "      <td>0.387</td>\n",
       "      <td>NaN</td>\n",
       "      <td>NaN</td>\n",
       "      <td>NaN</td>\n",
       "      <td>NaN</td>\n",
       "      <td>NaN</td>\n",
       "      <td>NaN</td>\n",
       "      <td>NaN</td>\n",
       "      <td>NaN</td>\n",
       "      <td>NaN</td>\n",
       "      <td>1.6</td>\n",
       "      <td>0.6</td>\n",
       "      <td>2.2</td>\n",
       "      <td>NaN</td>\n",
       "      <td>NaN</td>\n",
       "      <td>NaN</td>\n",
       "      <td>NaN</td>\n",
       "      <td>NaN</td>\n",
       "      <td>NaN</td>\n",
       "      <td>102.0</td>\n",
       "      <td>274.0</td>\n",
       "      <td>0.372</td>\n",
       "      <td>NaN</td>\n",
       "      <td>NaN</td>\n",
       "      <td>NaN</td>\n",
       "      <td>102.0</td>\n",
       "      <td>274.0</td>\n",
       "      <td>0.372</td>\n",
       "      <td>0.372</td>\n",
       "      <td>75.0</td>\n",
       "      <td>106.0</td>\n",
       "      <td>0.708</td>\n",
       "      <td>NaN</td>\n",
       "      <td>NaN</td>\n",
       "      <td>NaN</td>\n",
       "      <td>109.0</td>\n",
       "      <td>NaN</td>\n",
       "      <td>NaN</td>\n",
       "      <td>NaN</td>\n",
       "      <td>99.0</td>\n",
       "      <td>279.0</td>\n",
       "    </tr>\n",
       "    <tr>\n",
       "      <th>Leo Barnhorst</th>\n",
       "      <td>1950.0</td>\n",
       "      <td>SF</td>\n",
       "      <td>25.0</td>\n",
       "      <td>CHS</td>\n",
       "      <td>67.0</td>\n",
       "      <td>NaN</td>\n",
       "      <td>NaN</td>\n",
       "      <td>NaN</td>\n",
       "      <td>0.394</td>\n",
       "      <td>NaN</td>\n",
       "      <td>0.259</td>\n",
       "      <td>NaN</td>\n",
       "      <td>NaN</td>\n",
       "      <td>NaN</td>\n",
       "      <td>NaN</td>\n",
       "      <td>NaN</td>\n",
       "      <td>NaN</td>\n",
       "      <td>NaN</td>\n",
       "      <td>NaN</td>\n",
       "      <td>NaN</td>\n",
       "      <td>0.9</td>\n",
       "      <td>2.8</td>\n",
       "      <td>3.6</td>\n",
       "      <td>NaN</td>\n",
       "      <td>NaN</td>\n",
       "      <td>NaN</td>\n",
       "      <td>NaN</td>\n",
       "      <td>NaN</td>\n",
       "      <td>NaN</td>\n",
       "      <td>174.0</td>\n",
       "      <td>499.0</td>\n",
       "      <td>0.349</td>\n",
       "      <td>NaN</td>\n",
       "      <td>NaN</td>\n",
       "      <td>NaN</td>\n",
       "      <td>174.0</td>\n",
       "      <td>499.0</td>\n",
       "      <td>0.349</td>\n",
       "      <td>0.349</td>\n",
       "      <td>90.0</td>\n",
       "      <td>129.0</td>\n",
       "      <td>0.698</td>\n",
       "      <td>NaN</td>\n",
       "      <td>NaN</td>\n",
       "      <td>NaN</td>\n",
       "      <td>140.0</td>\n",
       "      <td>NaN</td>\n",
       "      <td>NaN</td>\n",
       "      <td>NaN</td>\n",
       "      <td>192.0</td>\n",
       "      <td>438.0</td>\n",
       "    </tr>\n",
       "    <tr>\n",
       "      <th>Ed Bartels</th>\n",
       "      <td>1950.0</td>\n",
       "      <td>F</td>\n",
       "      <td>24.0</td>\n",
       "      <td>TOT</td>\n",
       "      <td>15.0</td>\n",
       "      <td>NaN</td>\n",
       "      <td>NaN</td>\n",
       "      <td>NaN</td>\n",
       "      <td>0.312</td>\n",
       "      <td>NaN</td>\n",
       "      <td>0.395</td>\n",
       "      <td>NaN</td>\n",
       "      <td>NaN</td>\n",
       "      <td>NaN</td>\n",
       "      <td>NaN</td>\n",
       "      <td>NaN</td>\n",
       "      <td>NaN</td>\n",
       "      <td>NaN</td>\n",
       "      <td>NaN</td>\n",
       "      <td>NaN</td>\n",
       "      <td>-0.5</td>\n",
       "      <td>-0.1</td>\n",
       "      <td>-0.6</td>\n",
       "      <td>NaN</td>\n",
       "      <td>NaN</td>\n",
       "      <td>NaN</td>\n",
       "      <td>NaN</td>\n",
       "      <td>NaN</td>\n",
       "      <td>NaN</td>\n",
       "      <td>22.0</td>\n",
       "      <td>86.0</td>\n",
       "      <td>0.256</td>\n",
       "      <td>NaN</td>\n",
       "      <td>NaN</td>\n",
       "      <td>NaN</td>\n",
       "      <td>22.0</td>\n",
       "      <td>86.0</td>\n",
       "      <td>0.256</td>\n",
       "      <td>0.256</td>\n",
       "      <td>19.0</td>\n",
       "      <td>34.0</td>\n",
       "      <td>0.559</td>\n",
       "      <td>NaN</td>\n",
       "      <td>NaN</td>\n",
       "      <td>NaN</td>\n",
       "      <td>20.0</td>\n",
       "      <td>NaN</td>\n",
       "      <td>NaN</td>\n",
       "      <td>NaN</td>\n",
       "      <td>29.0</td>\n",
       "      <td>63.0</td>\n",
       "    </tr>\n",
       "    <tr>\n",
       "      <th>Ed Bartels</th>\n",
       "      <td>1950.0</td>\n",
       "      <td>F</td>\n",
       "      <td>24.0</td>\n",
       "      <td>DNN</td>\n",
       "      <td>13.0</td>\n",
       "      <td>NaN</td>\n",
       "      <td>NaN</td>\n",
       "      <td>NaN</td>\n",
       "      <td>0.308</td>\n",
       "      <td>NaN</td>\n",
       "      <td>0.378</td>\n",
       "      <td>NaN</td>\n",
       "      <td>NaN</td>\n",
       "      <td>NaN</td>\n",
       "      <td>NaN</td>\n",
       "      <td>NaN</td>\n",
       "      <td>NaN</td>\n",
       "      <td>NaN</td>\n",
       "      <td>NaN</td>\n",
       "      <td>NaN</td>\n",
       "      <td>-0.5</td>\n",
       "      <td>-0.1</td>\n",
       "      <td>-0.6</td>\n",
       "      <td>NaN</td>\n",
       "      <td>NaN</td>\n",
       "      <td>NaN</td>\n",
       "      <td>NaN</td>\n",
       "      <td>NaN</td>\n",
       "      <td>NaN</td>\n",
       "      <td>21.0</td>\n",
       "      <td>82.0</td>\n",
       "      <td>0.256</td>\n",
       "      <td>NaN</td>\n",
       "      <td>NaN</td>\n",
       "      <td>NaN</td>\n",
       "      <td>21.0</td>\n",
       "      <td>82.0</td>\n",
       "      <td>0.256</td>\n",
       "      <td>0.256</td>\n",
       "      <td>17.0</td>\n",
       "      <td>31.0</td>\n",
       "      <td>0.548</td>\n",
       "      <td>NaN</td>\n",
       "      <td>NaN</td>\n",
       "      <td>NaN</td>\n",
       "      <td>20.0</td>\n",
       "      <td>NaN</td>\n",
       "      <td>NaN</td>\n",
       "      <td>NaN</td>\n",
       "      <td>27.0</td>\n",
       "      <td>59.0</td>\n",
       "    </tr>\n",
       "  </tbody>\n",
       "</table>\n",
       "</div>"
      ],
      "text/plain": [
       "                   Year  Pos   Age   Tm     G  GS  MP  PER    TS%  3PAr  \\\n",
       "Player                                                                    \n",
       "Curly Armstrong  1950.0  G-F  31.0  FTW  63.0 NaN NaN  NaN  0.368   NaN   \n",
       "Cliff Barker     1950.0   SG  29.0  INO  49.0 NaN NaN  NaN  0.435   NaN   \n",
       "Leo Barnhorst    1950.0   SF  25.0  CHS  67.0 NaN NaN  NaN  0.394   NaN   \n",
       "Ed Bartels       1950.0    F  24.0  TOT  15.0 NaN NaN  NaN  0.312   NaN   \n",
       "Ed Bartels       1950.0    F  24.0  DNN  13.0 NaN NaN  NaN  0.308   NaN   \n",
       "\n",
       "                   FTr  ORB%  DRB%  TRB%  AST%  STL%  BLK%  TOV%  USG%  blanl  \\\n",
       "Player                                                                          \n",
       "Curly Armstrong  0.467   NaN   NaN   NaN   NaN   NaN   NaN   NaN   NaN    NaN   \n",
       "Cliff Barker     0.387   NaN   NaN   NaN   NaN   NaN   NaN   NaN   NaN    NaN   \n",
       "Leo Barnhorst    0.259   NaN   NaN   NaN   NaN   NaN   NaN   NaN   NaN    NaN   \n",
       "Ed Bartels       0.395   NaN   NaN   NaN   NaN   NaN   NaN   NaN   NaN    NaN   \n",
       "Ed Bartels       0.378   NaN   NaN   NaN   NaN   NaN   NaN   NaN   NaN    NaN   \n",
       "\n",
       "                 OWS  DWS   WS  WS/48  blank2  OBPM  DBPM  BPM  VORP     FG  \\\n",
       "Player                                                                        \n",
       "Curly Armstrong -0.1  3.6  3.5    NaN     NaN   NaN   NaN  NaN   NaN  144.0   \n",
       "Cliff Barker     1.6  0.6  2.2    NaN     NaN   NaN   NaN  NaN   NaN  102.0   \n",
       "Leo Barnhorst    0.9  2.8  3.6    NaN     NaN   NaN   NaN  NaN   NaN  174.0   \n",
       "Ed Bartels      -0.5 -0.1 -0.6    NaN     NaN   NaN   NaN  NaN   NaN   22.0   \n",
       "Ed Bartels      -0.5 -0.1 -0.6    NaN     NaN   NaN   NaN  NaN   NaN   21.0   \n",
       "\n",
       "                   FGA    FG%  3P  3PA  3P%     2P    2PA    2P%   eFG%  \\\n",
       "Player                                                                    \n",
       "Curly Armstrong  516.0  0.279 NaN  NaN  NaN  144.0  516.0  0.279  0.279   \n",
       "Cliff Barker     274.0  0.372 NaN  NaN  NaN  102.0  274.0  0.372  0.372   \n",
       "Leo Barnhorst    499.0  0.349 NaN  NaN  NaN  174.0  499.0  0.349  0.349   \n",
       "Ed Bartels        86.0  0.256 NaN  NaN  NaN   22.0   86.0  0.256  0.256   \n",
       "Ed Bartels        82.0  0.256 NaN  NaN  NaN   21.0   82.0  0.256  0.256   \n",
       "\n",
       "                    FT    FTA    FT%  ORB  DRB  TRB    AST  STL  BLK  TOV  \\\n",
       "Player                                                                      \n",
       "Curly Armstrong  170.0  241.0  0.705  NaN  NaN  NaN  176.0  NaN  NaN  NaN   \n",
       "Cliff Barker      75.0  106.0  0.708  NaN  NaN  NaN  109.0  NaN  NaN  NaN   \n",
       "Leo Barnhorst     90.0  129.0  0.698  NaN  NaN  NaN  140.0  NaN  NaN  NaN   \n",
       "Ed Bartels        19.0   34.0  0.559  NaN  NaN  NaN   20.0  NaN  NaN  NaN   \n",
       "Ed Bartels        17.0   31.0  0.548  NaN  NaN  NaN   20.0  NaN  NaN  NaN   \n",
       "\n",
       "                    PF    PTS  \n",
       "Player                         \n",
       "Curly Armstrong  217.0  458.0  \n",
       "Cliff Barker      99.0  279.0  \n",
       "Leo Barnhorst    192.0  438.0  \n",
       "Ed Bartels        29.0   63.0  \n",
       "Ed Bartels        27.0   59.0  "
      ]
     },
     "execution_count": 12,
     "metadata": {},
     "output_type": "execute_result"
    }
   ],
   "source": [
    "print(players_NI.iloc[:,0:2].drop_duplicates().head())\n",
    "print(seasons_NI.head())\n",
    "#players[players.Player == 'Allen Iverson*'].head()\n",
    "       \n",
    "seasons_NI.head()"
   ]
  },
  {
   "cell_type": "code",
   "execution_count": 13,
   "metadata": {},
   "outputs": [
    {
     "name": "stdout",
     "output_type": "stream",
     "text": [
      "(3921, 7)\n"
     ]
    }
   ],
   "source": [
    "print(players.shape)\n",
    "#print(players_NI.iloc[:,0:2])"
   ]
  },
  {
   "cell_type": "markdown",
   "metadata": {},
   "source": [
    "## Filter Significant players"
   ]
  },
  {
   "cell_type": "code",
   "execution_count": 14,
   "metadata": {},
   "outputs": [
    {
     "name": "stdout",
     "output_type": "stream",
     "text": [
      " DATA FROM 1951: \n",
      "\n",
      "                    G  MP\n",
      "Player                   \n",
      "Paul Arizin*     65.0 NaN\n",
      "Curly Armstrong  38.0 NaN\n",
      "Cliff Barker     56.0 NaN\n",
      "Leo Barnhorst    68.0 NaN\n",
      "Ed Bartels       17.0 NaN\n",
      "\n",
      " DATA FROM 1952: \n",
      "\n",
      "                   G      MP\n",
      "Player                      \n",
      "Paul Arizin*    66.0  2939.0\n",
      "Cliff Barker    44.0   494.0\n",
      "Don Barksdale*  62.0  2014.0\n",
      "Leo Barnhorst   66.0  2344.0\n",
      "Elmer Behnke     4.0    55.0\n"
     ]
    }
   ],
   "source": [
    "#Show data from 1951 and 1952\n",
    "print(' DATA FROM 1951: \\n')\n",
    "print(seasons_NI[seasons_NI['Year']==1951].loc[:,['G', 'MP']].head()) \n",
    "print('\\n DATA FROM 1952: \\n')\n",
    "print(seasons_NI[seasons_NI['Year']==1952].loc[:,['G', 'MP']].head()) \n",
    "\n",
    "# G= Games, MP = Minutes Played\n",
    "seasons_NI = seasons_NI[(((seasons_NI['MP']/seasons_NI['G'])>25) | ((seasons_NI['Year']<1952) & (seasons_NI['G']>30)))]"
   ]
  },
  {
   "cell_type": "markdown",
   "metadata": {},
   "source": [
    "# Join players and seasons tables into \"seasons_new\" - relevant fields only"
   ]
  },
  {
   "cell_type": "code",
   "execution_count": 15,
   "metadata": {},
   "outputs": [
    {
     "name": "stdout",
     "output_type": "stream",
     "text": [
      "                 height  weight\n",
      "Player                         \n",
      "Curly Armstrong   180.0    77.0\n",
      "Cliff Barker      188.0    83.0\n",
      "Leo Barnhorst     193.0    86.0\n",
      "Ed Bartels        196.0    88.0\n",
      "Ralph Beard       178.0    79.0\n",
      "                   Year  Pos\n",
      "Player                      \n",
      "Curly Armstrong  1950.0  G-F\n",
      "Cliff Barker     1950.0   SG\n",
      "Leo Barnhorst    1950.0   SF\n",
      "Ralph Beard      1950.0    G\n",
      "Charlie Black    1950.0  F-C\n"
     ]
    }
   ],
   "source": [
    "print(players_NI.iloc[:,0:2].head())\n",
    "print(seasons_NI.iloc[:,0:2].head())"
   ]
  },
  {
   "cell_type": "code",
   "execution_count": 16,
   "metadata": {
    "scrolled": true
   },
   "outputs": [],
   "source": [
    "players_for_join = players_NI.iloc[:,0:2]\n",
    "seasons_for_join = seasons_NI.iloc[:,0:2]\n",
    "\n",
    "seasons_new = seasons_for_join.join(players_for_join,on='Player')"
   ]
  },
  {
   "cell_type": "code",
   "execution_count": 17,
   "metadata": {
    "scrolled": true
   },
   "outputs": [
    {
     "name": "stdout",
     "output_type": "stream",
     "text": [
      "                   Year  Pos  height  weight\n",
      "Player                                      \n",
      "Curly Armstrong  1950.0  G-F   180.0    77.0\n",
      "Cliff Barker     1950.0   SG   188.0    83.0\n",
      "Leo Barnhorst    1950.0   SF   193.0    86.0\n",
      "Ralph Beard      1950.0    G   178.0    79.0\n",
      "Charlie Black    1950.0  F-C   196.0    90.0\n",
      "8718\n",
      "6720\n",
      "<class 'pandas.core.frame.DataFrame'>\n",
      "Index: 8718 entries, Curly Armstrong to Cody Zeller\n",
      "Data columns (total 4 columns):\n",
      "Year      8718 non-null float64\n",
      "Pos       8718 non-null object\n",
      "height    8718 non-null float64\n",
      "weight    8718 non-null float64\n",
      "dtypes: float64(3), object(1)\n",
      "memory usage: 340.5+ KB\n"
     ]
    }
   ],
   "source": [
    "print(seasons_new.head())\n",
    "print(len(seasons_new))\n",
    "print(len(seasons_new.drop_duplicates()))\n",
    "seasons_new.info()"
   ]
  },
  {
   "cell_type": "markdown",
   "metadata": {},
   "source": [
    "## GROUPING 'POS' INTO 3 POSITIONS"
   ]
  },
  {
   "cell_type": "code",
   "execution_count": 18,
   "metadata": {
    "scrolled": true
   },
   "outputs": [
    {
     "name": "stdout",
     "output_type": "stream",
     "text": [
      "['G-F' 'SG' 'SF' 'G' 'F-C' 'PG' 'F-G' 'C' 'PF' 'F' 'C-F' 'PF-C' 'SF-SG'\n",
      " 'C-PF' 'SG-PG' 'SF-PF' 'PG-SG' 'SG-SF' 'PG-SF' 'SG-PF' 'PF-SF']\n",
      " There are 21 unique positions out of 8718 records.\n"
     ]
    }
   ],
   "source": [
    "print (seasons_new.Pos.unique())\n",
    "unique_count = seasons_new.Pos.nunique()\n",
    "print(f' There are {unique_count} unique positions out of {len(seasons_new)} records.')"
   ]
  },
  {
   "cell_type": "code",
   "execution_count": 19,
   "metadata": {},
   "outputs": [
    {
     "data": {
      "text/html": [
       "<div>\n",
       "<style scoped>\n",
       "    .dataframe tbody tr th:only-of-type {\n",
       "        vertical-align: middle;\n",
       "    }\n",
       "\n",
       "    .dataframe tbody tr th {\n",
       "        vertical-align: top;\n",
       "    }\n",
       "\n",
       "    .dataframe thead th {\n",
       "        text-align: right;\n",
       "    }\n",
       "</style>\n",
       "<table border=\"1\" class=\"dataframe\">\n",
       "  <thead>\n",
       "    <tr style=\"text-align: right;\">\n",
       "      <th></th>\n",
       "      <th>Player</th>\n",
       "    </tr>\n",
       "    <tr>\n",
       "      <th>Pos</th>\n",
       "      <th></th>\n",
       "    </tr>\n",
       "  </thead>\n",
       "  <tbody>\n",
       "    <tr>\n",
       "      <th>C</th>\n",
       "      <td>1451</td>\n",
       "    </tr>\n",
       "    <tr>\n",
       "      <th>C-F</th>\n",
       "      <td>18</td>\n",
       "    </tr>\n",
       "    <tr>\n",
       "      <th>C-PF</th>\n",
       "      <td>5</td>\n",
       "    </tr>\n",
       "    <tr>\n",
       "      <th>F</th>\n",
       "      <td>23</td>\n",
       "    </tr>\n",
       "    <tr>\n",
       "      <th>F-C</th>\n",
       "      <td>39</td>\n",
       "    </tr>\n",
       "    <tr>\n",
       "      <th>F-G</th>\n",
       "      <td>30</td>\n",
       "    </tr>\n",
       "    <tr>\n",
       "      <th>G</th>\n",
       "      <td>51</td>\n",
       "    </tr>\n",
       "    <tr>\n",
       "      <th>G-F</th>\n",
       "      <td>41</td>\n",
       "    </tr>\n",
       "    <tr>\n",
       "      <th>PF</th>\n",
       "      <td>1679</td>\n",
       "    </tr>\n",
       "    <tr>\n",
       "      <th>PF-C</th>\n",
       "      <td>6</td>\n",
       "    </tr>\n",
       "    <tr>\n",
       "      <th>PF-SF</th>\n",
       "      <td>4</td>\n",
       "    </tr>\n",
       "    <tr>\n",
       "      <th>PG</th>\n",
       "      <td>1774</td>\n",
       "    </tr>\n",
       "    <tr>\n",
       "      <th>PG-SF</th>\n",
       "      <td>1</td>\n",
       "    </tr>\n",
       "    <tr>\n",
       "      <th>PG-SG</th>\n",
       "      <td>8</td>\n",
       "    </tr>\n",
       "    <tr>\n",
       "      <th>SF</th>\n",
       "      <td>1768</td>\n",
       "    </tr>\n",
       "    <tr>\n",
       "      <th>SF-PF</th>\n",
       "      <td>6</td>\n",
       "    </tr>\n",
       "    <tr>\n",
       "      <th>SF-SG</th>\n",
       "      <td>12</td>\n",
       "    </tr>\n",
       "    <tr>\n",
       "      <th>SG</th>\n",
       "      <td>1787</td>\n",
       "    </tr>\n",
       "    <tr>\n",
       "      <th>SG-PF</th>\n",
       "      <td>2</td>\n",
       "    </tr>\n",
       "    <tr>\n",
       "      <th>SG-PG</th>\n",
       "      <td>7</td>\n",
       "    </tr>\n",
       "    <tr>\n",
       "      <th>SG-SF</th>\n",
       "      <td>6</td>\n",
       "    </tr>\n",
       "  </tbody>\n",
       "</table>\n",
       "</div>"
      ],
      "text/plain": [
       "       Player\n",
       "Pos          \n",
       "C        1451\n",
       "C-F        18\n",
       "C-PF        5\n",
       "F          23\n",
       "F-C        39\n",
       "F-G        30\n",
       "G          51\n",
       "G-F        41\n",
       "PF       1679\n",
       "PF-C        6\n",
       "PF-SF       4\n",
       "PG       1774\n",
       "PG-SF       1\n",
       "PG-SG       8\n",
       "SF       1768\n",
       "SF-PF       6\n",
       "SF-SG      12\n",
       "SG       1787\n",
       "SG-PF       2\n",
       "SG-PG       7\n",
       "SG-SF       6"
      ]
     },
     "execution_count": 19,
     "metadata": {},
     "output_type": "execute_result"
    }
   ],
   "source": [
    "seasons_new.reset_index(inplace=True)\n",
    "seasons_new.groupby('Pos')[['Player']].count()"
   ]
  },
  {
   "cell_type": "code",
   "execution_count": 20,
   "metadata": {},
   "outputs": [],
   "source": [
    "def changePosition(x):\n",
    "    #if (\"SG\" in x) or (\"PG\" in x):\n",
    "    if (\"G\" in x):\n",
    "        return \"Guard\"\n",
    "    #elif (\"SF\" in x) or (\"PF\" in x):\n",
    "    elif (\"C\" in x):\n",
    "        return \"Center\"\n",
    "    else:\n",
    "        return \"Forward\""
   ]
  },
  {
   "cell_type": "code",
   "execution_count": 21,
   "metadata": {
    "scrolled": true
   },
   "outputs": [
    {
     "name": "stdout",
     "output_type": "stream",
     "text": [
      "              Player    Year    Pos  height  weight Position\n",
      "4914  Allen Iverson*  1997.0     PG   183.0    74.0    Guard\n",
      "5101  Allen Iverson*  1998.0     PG   183.0    74.0    Guard\n",
      "5292  Allen Iverson*  1999.0     SG   183.0    74.0    Guard\n",
      "5453  Allen Iverson*  2000.0     SG   183.0    74.0    Guard\n",
      "5610  Allen Iverson*  2001.0     SG   183.0    74.0    Guard\n",
      "5784  Allen Iverson*  2002.0     SG   183.0    74.0    Guard\n",
      "5953  Allen Iverson*  2003.0     SG   183.0    74.0    Guard\n",
      "6129  Allen Iverson*  2004.0     SG   183.0    74.0    Guard\n",
      "6324  Allen Iverson*  2005.0     PG   183.0    74.0    Guard\n",
      "6523  Allen Iverson*  2006.0     PG   183.0    74.0    Guard\n",
      "6714  Allen Iverson*  2007.0  SG-PG   183.0    74.0    Guard\n",
      "6715  Allen Iverson*  2007.0     PG   183.0    74.0    Guard\n",
      "6716  Allen Iverson*  2007.0     SG   183.0    74.0    Guard\n",
      "6900  Allen Iverson*  2008.0     SG   183.0    74.0    Guard\n",
      "7091  Allen Iverson*  2009.0  PG-SG   183.0    74.0    Guard\n",
      "7092  Allen Iverson*  2009.0     SG   183.0    74.0    Guard\n",
      "7093  Allen Iverson*  2009.0     PG   183.0    74.0    Guard\n",
      "7301  Allen Iverson*  2010.0  SG-PG   183.0    74.0    Guard\n",
      "7302  Allen Iverson*  2010.0     SG   183.0    74.0    Guard\n"
     ]
    }
   ],
   "source": [
    "seasons_new['Pos'].head()\n",
    "seasons_new['Position'] = seasons_new['Pos'].apply(changePosition)\n",
    "print(seasons_new[seasons_new.Player == 'Allen Iverson*'].head(30))\n",
    "#seasons.reset_index(inplace=True)\n",
    "#print(seasons[seasons.Player == 'Allen Iverson*'].head(20))\n",
    "\n",
    "\n"
   ]
  },
  {
   "cell_type": "code",
   "execution_count": 22,
   "metadata": {},
   "outputs": [
    {
     "name": "stdout",
     "output_type": "stream",
     "text": [
      "              Player    Year  height  weight Position  is_duplicate\n",
      "4914  Allen Iverson*  1997.0   183.0    74.0    Guard         False\n",
      "5101  Allen Iverson*  1998.0   183.0    74.0    Guard         False\n",
      "5292  Allen Iverson*  1999.0   183.0    74.0    Guard         False\n",
      "5453  Allen Iverson*  2000.0   183.0    74.0    Guard         False\n",
      "5610  Allen Iverson*  2001.0   183.0    74.0    Guard         False\n",
      "5784  Allen Iverson*  2002.0   183.0    74.0    Guard         False\n",
      "5953  Allen Iverson*  2003.0   183.0    74.0    Guard         False\n",
      "6129  Allen Iverson*  2004.0   183.0    74.0    Guard         False\n",
      "6324  Allen Iverson*  2005.0   183.0    74.0    Guard         False\n",
      "6523  Allen Iverson*  2006.0   183.0    74.0    Guard         False\n",
      "6714  Allen Iverson*  2007.0   183.0    74.0    Guard         False\n",
      "6715  Allen Iverson*  2007.0   183.0    74.0    Guard          True\n",
      "6716  Allen Iverson*  2007.0   183.0    74.0    Guard          True\n",
      "6900  Allen Iverson*  2008.0   183.0    74.0    Guard         False\n",
      "7091  Allen Iverson*  2009.0   183.0    74.0    Guard         False\n",
      "7092  Allen Iverson*  2009.0   183.0    74.0    Guard          True\n",
      "7093  Allen Iverson*  2009.0   183.0    74.0    Guard          True\n",
      "7301  Allen Iverson*  2010.0   183.0    74.0    Guard         False\n",
      "7302  Allen Iverson*  2010.0   183.0    74.0    Guard          True\n"
     ]
    }
   ],
   "source": [
    "seasons_new.drop(['Pos'], axis=1, inplace = True)\n",
    "seasons_new[\"is_duplicate\"]= seasons_new.duplicated()\n",
    "#print(seasons_new[seasons_new.Player == 'Isaiah Thomas'].tail(30))\n",
    "print(seasons_new[seasons_new.Player == 'Allen Iverson*'].head(30))"
   ]
  },
  {
   "cell_type": "code",
   "execution_count": 23,
   "metadata": {},
   "outputs": [],
   "source": [
    "seasons_new.drop(['is_duplicate'], axis=1, inplace = True)\n"
   ]
  },
  {
   "cell_type": "code",
   "execution_count": 24,
   "metadata": {},
   "outputs": [
    {
     "name": "stdout",
     "output_type": "stream",
     "text": [
      "              Player    Year  height  weight Position\n",
      "4914  Allen Iverson*  1997.0   183.0    74.0    Guard\n",
      "5101  Allen Iverson*  1998.0   183.0    74.0    Guard\n",
      "5292  Allen Iverson*  1999.0   183.0    74.0    Guard\n",
      "5453  Allen Iverson*  2000.0   183.0    74.0    Guard\n",
      "5610  Allen Iverson*  2001.0   183.0    74.0    Guard\n",
      "5784  Allen Iverson*  2002.0   183.0    74.0    Guard\n",
      "5953  Allen Iverson*  2003.0   183.0    74.0    Guard\n",
      "6129  Allen Iverson*  2004.0   183.0    74.0    Guard\n",
      "6324  Allen Iverson*  2005.0   183.0    74.0    Guard\n",
      "6523  Allen Iverson*  2006.0   183.0    74.0    Guard\n",
      "6714  Allen Iverson*  2007.0   183.0    74.0    Guard\n",
      "6900  Allen Iverson*  2008.0   183.0    74.0    Guard\n",
      "7091  Allen Iverson*  2009.0   183.0    74.0    Guard\n",
      "7301  Allen Iverson*  2010.0   183.0    74.0    Guard\n"
     ]
    },
    {
     "data": {
      "text/plain": [
       "7966"
      ]
     },
     "execution_count": 24,
     "metadata": {},
     "output_type": "execute_result"
    }
   ],
   "source": [
    "seasons_new = seasons_new.drop_duplicates()\n",
    "print(seasons_new[seasons_new.Player == 'Allen Iverson*'].head(20))\n",
    "len(seasons_new)"
   ]
  },
  {
   "cell_type": "markdown",
   "metadata": {},
   "source": [
    "# GRAPHS"
   ]
  },
  {
   "cell_type": "code",
   "execution_count": 73,
   "metadata": {},
   "outputs": [
    {
     "data": {
      "text/plain": [
       "<matplotlib.axes._subplots.AxesSubplot at 0x20c7b90c5c0>"
      ]
     },
     "execution_count": 73,
     "metadata": {},
     "output_type": "execute_result"
    },
    {
     "data": {
      "image/png": "[encoded data removed]",
      "text/plain": [
       "<Figure size 432x288 with 1 Axes>"
      ]
     },
     "metadata": {
      "needs_background": "light"
     },
     "output_type": "display_data"
    }
   ],
   "source": [
    "seasons_new.groupby('Position')[['Player']].count().plot(kind='bar',rot=15, title = '# of Players by Position')"
   ]
  },
  {
   "cell_type": "code",
   "execution_count": 72,
   "metadata": {},
   "outputs": [
    {
     "data": {
      "text/plain": [
       "<matplotlib.axes._subplots.AxesSubplot at 0x20c7b8b0208>"
      ]
     },
     "execution_count": 72,
     "metadata": {},
     "output_type": "execute_result"
    },
    {
     "data": {
      "image/png": "[encoded data removed]",
      "text/plain": [
       "<Figure size 432x288 with 1 Axes>"
      ]
     },
     "metadata": {
      "needs_background": "light"
     },
     "output_type": "display_data"
    }
   ],
   "source": [
    "#print(seasons_new.groupby(['Year','Position'])[['height']].mean())\n",
    "seasons_new.groupby(['Year'])[['height']].mean().plot(title = 'Avg. Height by Year - Over Time')"
   ]
  },
  {
   "cell_type": "code",
   "execution_count": 71,
   "metadata": {},
   "outputs": [
    {
     "data": {
      "text/plain": [
       "<matplotlib.axes._subplots.AxesSubplot at 0x20c7b7ab160>"
      ]
     },
     "execution_count": 71,
     "metadata": {},
     "output_type": "execute_result"
    },
    {
     "data": {
      "image/png": "[encoded data removed]",
      "text/plain": [
       "<Figure size 432x288 with 1 Axes>"
      ]
     },
     "metadata": {
      "needs_background": "light"
     },
     "output_type": "display_data"
    }
   ],
   "source": [
    "#seasons_new.groupby(['Year'])[['height']].mean().plot(kind='box')\n",
    "seasons_new[['height']].plot(kind='hist', title = 'Players Height Histogram')\n",
    "#df_dessert.groupby('num.of.guests')[['dessert', 'not.dessert']].sum().plot(kind='bar')"
   ]
  },
  {
   "cell_type": "code",
   "execution_count": 66,
   "metadata": {},
   "outputs": [
    {
     "data": {
      "text/plain": [
       "<matplotlib.axes._subplots.AxesSubplot at 0x20c7b4ead68>"
      ]
     },
     "execution_count": 66,
     "metadata": {},
     "output_type": "execute_result"
    },
    {
     "data": {
      "image/png": "[encoded data removed]",
      "text/plain": [
       "<Figure size 432x288 with 1 Axes>"
      ]
     },
     "metadata": {
      "needs_background": "light"
     },
     "output_type": "display_data"
    }
   ],
   "source": [
    "seasons_new[(seasons_new['Position']=='Center')].groupby('Year').height.mean().plot(title = 'Avg. Height by Year - Centers')"
   ]
  },
  {
   "cell_type": "code",
   "execution_count": 65,
   "metadata": {},
   "outputs": [
    {
     "data": {
      "image/png": "[encoded data removed]",
      "text/plain": [
       "<Figure size 432x288 with 1 Axes>"
      ]
     },
     "metadata": {
      "needs_background": "light"
     },
     "output_type": "display_data"
    }
   ],
   "source": [
    "#[seasons_new['Position']\n",
    "\n",
    "fig = plt.figure()\n",
    "ax = fig.gca()\n",
    "for n in seasons_new.Position.unique():\n",
    "    seasons_new[(seasons_new['Position']==n)].groupby('Year').height.mean().plot()\n",
    "\n",
    "ax.set_title('Avg. Height Change Over Time')\n",
    "ax.set_ylabel('Height (Centimeters)')\n",
    "plt.legend(seasons_new.Position.unique(), loc='best')\n",
    "plt.show()"
   ]
  },
  {
   "cell_type": "markdown",
   "metadata": {},
   "source": [
    "## ANALYSIS BY DECADE"
   ]
  },
  {
   "cell_type": "code",
   "execution_count": 30,
   "metadata": {},
   "outputs": [],
   "source": [
    "def Decade(z):\n",
    "    if z < 1960:\n",
    "         return \"(1) 50's\"\n",
    "    elif z < 1970:\n",
    "         return \"(2) 60's\"\n",
    "    elif z < 1980:\n",
    "         return \"(3) 70's\"\n",
    "    elif z < 1990:\n",
    "         return \"(4) 80's\"\n",
    "    elif z < 2000:\n",
    "         return \"(5) 90's\"\n",
    "    elif z < 2010:\n",
    "         return \"(6) 2000's\"\n",
    "    else:\n",
    "         return \"(7) 2010's\""
   ]
  },
  {
   "cell_type": "code",
   "execution_count": 31,
   "metadata": {},
   "outputs": [
    {
     "data": {
      "text/html": [
       "<div>\n",
       "<style scoped>\n",
       "    .dataframe tbody tr th:only-of-type {\n",
       "        vertical-align: middle;\n",
       "    }\n",
       "\n",
       "    .dataframe tbody tr th {\n",
       "        vertical-align: top;\n",
       "    }\n",
       "\n",
       "    .dataframe thead th {\n",
       "        text-align: right;\n",
       "    }\n",
       "</style>\n",
       "<table border=\"1\" class=\"dataframe\">\n",
       "  <thead>\n",
       "    <tr style=\"text-align: right;\">\n",
       "      <th></th>\n",
       "      <th>Player</th>\n",
       "      <th>Year</th>\n",
       "      <th>height</th>\n",
       "      <th>weight</th>\n",
       "      <th>Position</th>\n",
       "      <th>Decade</th>\n",
       "    </tr>\n",
       "  </thead>\n",
       "  <tbody>\n",
       "    <tr>\n",
       "      <th>8713</th>\n",
       "      <td>Marvin Williams</td>\n",
       "      <td>2017.0</td>\n",
       "      <td>185.0</td>\n",
       "      <td>89.0</td>\n",
       "      <td>Forward</td>\n",
       "      <td>(7) 2010's</td>\n",
       "    </tr>\n",
       "    <tr>\n",
       "      <th>8714</th>\n",
       "      <td>Justise Winslow</td>\n",
       "      <td>2017.0</td>\n",
       "      <td>201.0</td>\n",
       "      <td>102.0</td>\n",
       "      <td>Forward</td>\n",
       "      <td>(7) 2010's</td>\n",
       "    </tr>\n",
       "    <tr>\n",
       "      <th>8715</th>\n",
       "      <td>Nick Young</td>\n",
       "      <td>2017.0</td>\n",
       "      <td>201.0</td>\n",
       "      <td>95.0</td>\n",
       "      <td>Guard</td>\n",
       "      <td>(7) 2010's</td>\n",
       "    </tr>\n",
       "    <tr>\n",
       "      <th>8716</th>\n",
       "      <td>Thaddeus Young</td>\n",
       "      <td>2017.0</td>\n",
       "      <td>203.0</td>\n",
       "      <td>100.0</td>\n",
       "      <td>Forward</td>\n",
       "      <td>(7) 2010's</td>\n",
       "    </tr>\n",
       "    <tr>\n",
       "      <th>8717</th>\n",
       "      <td>Cody Zeller</td>\n",
       "      <td>2017.0</td>\n",
       "      <td>213.0</td>\n",
       "      <td>108.0</td>\n",
       "      <td>Forward</td>\n",
       "      <td>(7) 2010's</td>\n",
       "    </tr>\n",
       "  </tbody>\n",
       "</table>\n",
       "</div>"
      ],
      "text/plain": [
       "               Player    Year  height  weight Position      Decade\n",
       "8713  Marvin Williams  2017.0   185.0    89.0  Forward  (7) 2010's\n",
       "8714  Justise Winslow  2017.0   201.0   102.0  Forward  (7) 2010's\n",
       "8715       Nick Young  2017.0   201.0    95.0    Guard  (7) 2010's\n",
       "8716   Thaddeus Young  2017.0   203.0   100.0  Forward  (7) 2010's\n",
       "8717      Cody Zeller  2017.0   213.0   108.0  Forward  (7) 2010's"
      ]
     },
     "execution_count": 31,
     "metadata": {},
     "output_type": "execute_result"
    }
   ],
   "source": [
    "#seasons_new['Year'].apply(Decade)\n",
    "seasons_new['Decade'] = seasons_new['Year'].apply(Decade)\n",
    "seasons_new.tail()"
   ]
  },
  {
   "cell_type": "code",
   "execution_count": 32,
   "metadata": {},
   "outputs": [
    {
     "data": {
      "text/html": [
       "<div>\n",
       "<style scoped>\n",
       "    .dataframe tbody tr th:only-of-type {\n",
       "        vertical-align: middle;\n",
       "    }\n",
       "\n",
       "    .dataframe tbody tr th {\n",
       "        vertical-align: top;\n",
       "    }\n",
       "\n",
       "    .dataframe thead th {\n",
       "        text-align: right;\n",
       "    }\n",
       "</style>\n",
       "<table border=\"1\" class=\"dataframe\">\n",
       "  <thead>\n",
       "    <tr style=\"text-align: right;\">\n",
       "      <th>Position</th>\n",
       "      <th>Center</th>\n",
       "      <th>Forward</th>\n",
       "      <th>Guard</th>\n",
       "    </tr>\n",
       "    <tr>\n",
       "      <th>Decade</th>\n",
       "      <th></th>\n",
       "      <th></th>\n",
       "      <th></th>\n",
       "    </tr>\n",
       "  </thead>\n",
       "  <tbody>\n",
       "    <tr>\n",
       "      <th>(1) 50's</th>\n",
       "      <td>203.161972</td>\n",
       "      <td>197.122066</td>\n",
       "      <td>186.619672</td>\n",
       "    </tr>\n",
       "    <tr>\n",
       "      <th>(2) 60's</th>\n",
       "      <td>207.938776</td>\n",
       "      <td>199.920398</td>\n",
       "      <td>190.482301</td>\n",
       "    </tr>\n",
       "    <tr>\n",
       "      <th>(3) 70's</th>\n",
       "      <td>209.171717</td>\n",
       "      <td>200.394402</td>\n",
       "      <td>191.066339</td>\n",
       "    </tr>\n",
       "    <tr>\n",
       "      <th>(4) 80's</th>\n",
       "      <td>211.033613</td>\n",
       "      <td>202.852941</td>\n",
       "      <td>192.051125</td>\n",
       "    </tr>\n",
       "    <tr>\n",
       "      <th>(5) 90's</th>\n",
       "      <td>211.738095</td>\n",
       "      <td>203.094082</td>\n",
       "      <td>191.735433</td>\n",
       "    </tr>\n",
       "  </tbody>\n",
       "</table>\n",
       "</div>"
      ],
      "text/plain": [
       "Position      Center     Forward       Guard\n",
       "Decade                                      \n",
       "(1) 50's  203.161972  197.122066  186.619672\n",
       "(2) 60's  207.938776  199.920398  190.482301\n",
       "(3) 70's  209.171717  200.394402  191.066339\n",
       "(4) 80's  211.033613  202.852941  192.051125\n",
       "(5) 90's  211.738095  203.094082  191.735433"
      ]
     },
     "execution_count": 32,
     "metadata": {},
     "output_type": "execute_result"
    }
   ],
   "source": [
    "df_pivot=pd.pivot_table(seasons_new,\n",
    "               index='Decade',\n",
    "               columns='Position', \n",
    "               values='height', \n",
    "               aggfunc='mean',\n",
    "               fill_value=0)\n",
    "df_pivot.head()"
   ]
  },
  {
   "cell_type": "code",
   "execution_count": 64,
   "metadata": {},
   "outputs": [
    {
     "data": {
      "text/plain": [
       "(185, 220)"
      ]
     },
     "execution_count": 64,
     "metadata": {},
     "output_type": "execute_result"
    },
    {
     "data": {
      "image/png": "[encoded data removed]",
      "text/plain": [
       "<Figure size 432x288 with 1 Axes>"
      ]
     },
     "metadata": {
      "needs_background": "light"
     },
     "output_type": "display_data"
    }
   ],
   "source": [
    "## 2010's - Guard's game\n",
    "df_pivot.plot(kind='bar', title='Avg. Height by Decade'); plt.ylim((185,220))"
   ]
  },
  {
   "cell_type": "code",
   "execution_count": 34,
   "metadata": {},
   "outputs": [
    {
     "data": {
      "text/plain": [
       "Decade\n",
       "(1) 50's      305\n",
       "(2) 60's      226\n",
       "(3) 70's      407\n",
       "(4) 80's      489\n",
       "(5) 90's      635\n",
       "(6) 2000's    714\n",
       "(7) 2010's    624\n",
       "Name: Player, dtype: int64"
      ]
     },
     "execution_count": 34,
     "metadata": {},
     "output_type": "execute_result"
    }
   ],
   "source": [
    "seasons_new[(seasons_new['Position']=='Guard') ].groupby('Decade').Player.count()\n",
    "#seasons_new[(seasons_new['Position']=='Guard') & (seasons_new['Decade']==\"90's\")].head(100)\n",
    "#seasons_new[(seasons_new['Position']==n) & (seasons_new['Year']>1966)].groupby('Year').height.mean()"
   ]
  },
  {
   "cell_type": "code",
   "execution_count": 60,
   "metadata": {},
   "outputs": [
    {
     "data": {
      "text/plain": [
       "<matplotlib.legend.Legend at 0x20c7b4c2dd8>"
      ]
     },
     "execution_count": 60,
     "metadata": {},
     "output_type": "execute_result"
    },
    {
     "data": {
      "image/png": "[encoded data removed]",
      "text/plain": [
       "<Figure size 432x288 with 1 Axes>"
      ]
     },
     "metadata": {
      "needs_background": "light"
     },
     "output_type": "display_data"
    }
   ],
   "source": [
    "color_map = {'Guard': 'r', 'Forward': 'b', 'Center': 'y'}\n",
    "ax = plt.subplot(title='Avg. Height by Decade')\n",
    "\n",
    "x, y = seasons_new.Decade, seasons_new.height\n",
    "colors = seasons_new.Position.map(color_map)\n",
    "ax.scatter(x, y, color=colors)\n",
    "plt.legend(color_map)"
   ]
  },
  {
   "cell_type": "markdown",
   "metadata": {},
   "source": [
    "## ANECDOTES"
   ]
  },
  {
   "cell_type": "code",
   "execution_count": 36,
   "metadata": {},
   "outputs": [
    {
     "name": "stdout",
     "output_type": "stream",
     "text": [
      " Shortest players in history: \n",
      "\n",
      "             Player  height      Decade\n",
      "3716  Muggsy Bogues   160.0    (5) 90's\n",
      "3855      Spud Webb   168.0    (5) 90's\n",
      "6261   Earl Boykins   165.0  (6) 2000's\n",
      "\n",
      " Tallest players in history: \n",
      "\n",
      "                Player  height      Decade\n",
      "3185        Manute Bol   231.0    (4) 80's\n",
      "4768  Gheorghe Muresan   231.0    (5) 90's\n",
      "4340     Shawn Bradley   229.0    (5) 90's\n",
      "4501        P.J. Brown   229.0    (5) 90's\n",
      "5410        P.J. Brown   229.0  (6) 2000's\n",
      "5990         Yao Ming*   229.0  (6) 2000's\n"
     ]
    }
   ],
   "source": [
    "print(' Shortest players in history: \\n')\n",
    "print(seasons_new[((seasons_new['height'])<170)].loc[:,['Player', 'height','Decade']].drop_duplicates())\n",
    "print('\\n Tallest players in history: \\n')\n",
    "print(seasons_new[((seasons_new['height'])>225)].loc[:,['Player', 'height','Decade']].drop_duplicates().sort_values('height',ascending=False))"
   ]
  },
  {
   "cell_type": "code",
   "execution_count": 38,
   "metadata": {
    "scrolled": true
   },
   "outputs": [
    {
     "name": "stdout",
     "output_type": "stream",
     "text": [
      " Players averaged more than 48 minutes a game: \n",
      "\n",
      "                      G      MP    Year\n",
      "Player                                 \n",
      "Wilt Chamberlain*  80.0  3882.0  1962.0\n",
      "\n",
      " Players averaged more than 47 minutes a game: \n",
      "\n",
      "                      G      MP    Year\n",
      "Player                                 \n",
      "Wilt Chamberlain*  79.0  3773.0  1961.0\n",
      "Wilt Chamberlain*  80.0  3882.0  1962.0\n",
      "Wilt Chamberlain*  80.0  3806.0  1963.0\n",
      "Wilt Chamberlain*  79.0  3737.0  1966.0\n"
     ]
    }
   ],
   "source": [
    "print(' Players averaged more than 48 minutes a game: \\n')\n",
    "print(seasons_NI[((seasons_NI['MP']/seasons_NI['G'])>48)].loc[:,['G', 'MP','Year']])\n",
    "print('\\n Players averaged more than 47 minutes a game: \\n')\n",
    "print(seasons_NI[((seasons_NI['MP']/seasons_NI['G'])>47)].loc[:,['G', 'MP','Year']])"
   ]
  }
 ],
 "metadata": {
  "kernelspec": {
   "display_name": "Python 3",
   "language": "python",
   "name": "python3"
  },
  "language_info": {
   "codemirror_mode": {
    "name": "ipython",
    "version": 3
   },
   "file_extension": ".py",
   "mimetype": "text/x-python",
   "name": "python",
   "nbconvert_exporter": "python",
   "pygments_lexer": "ipython3",
   "version": "3.7.1"
  }
 },
 "nbformat": 4,
 "nbformat_minor": 2
}
